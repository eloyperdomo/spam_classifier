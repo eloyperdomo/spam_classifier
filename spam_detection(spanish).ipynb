{
  "nbformat": 4,
  "nbformat_minor": 0,
  "metadata": {
    "colab": {
      "name": "eloy.perdomo.díaz_proyecto_final_NLP.ipynb",
      "provenance": [],
      "collapsed_sections": []
    },
    "kernelspec": {
      "name": "python3",
      "display_name": "Python 3"
    },
    "accelerator": "GPU"
  },
  "cells": [
    {
      "cell_type": "markdown",
      "metadata": {
        "id": "I0W6q53Y4BXu"
      },
      "source": [
        "# **Naives Bayes**, **SVC** and **Deeplearning** for Spam Detection\n",
        "\n",
        "### El objetivo de este trabajo consiste en la comparación de Naives bayes, Support Vector Classifier y Redes Profundas a la hora de clasificar Spam.\n"
      ]
    },
    {
      "cell_type": "code",
      "metadata": {
        "id": "K6G2FN6siCEF"
      },
      "source": [
        "import pandas as pd\n",
        "import numpy as np\n",
        "from google.colab import files\n",
        "from sklearn.model_selection import train_test_split"
      ],
      "execution_count": 1,
      "outputs": []
    },
    {
      "cell_type": "code",
      "metadata": {
        "colab": {
          "resources": {
            "http://localhost:8080/nbextensions/google.colab/files.js": {
              "data": "Ly8gQ29weXJpZ2h0IDIwMTcgR29vZ2xlIExMQwovLwovLyBMaWNlbnNlZCB1bmRlciB0aGUgQXBhY2hlIExpY2Vuc2UsIFZlcnNpb24gMi4wICh0aGUgIkxpY2Vuc2UiKTsKLy8geW91IG1heSBub3QgdXNlIHRoaXMgZmlsZSBleGNlcHQgaW4gY29tcGxpYW5jZSB3aXRoIHRoZSBMaWNlbnNlLgovLyBZb3UgbWF5IG9idGFpbiBhIGNvcHkgb2YgdGhlIExpY2Vuc2UgYXQKLy8KLy8gICAgICBodHRwOi8vd3d3LmFwYWNoZS5vcmcvbGljZW5zZXMvTElDRU5TRS0yLjAKLy8KLy8gVW5sZXNzIHJlcXVpcmVkIGJ5IGFwcGxpY2FibGUgbGF3IG9yIGFncmVlZCB0byBpbiB3cml0aW5nLCBzb2Z0d2FyZQovLyBkaXN0cmlidXRlZCB1bmRlciB0aGUgTGljZW5zZSBpcyBkaXN0cmlidXRlZCBvbiBhbiAiQVMgSVMiIEJBU0lTLAovLyBXSVRIT1VUIFdBUlJBTlRJRVMgT1IgQ09ORElUSU9OUyBPRiBBTlkgS0lORCwgZWl0aGVyIGV4cHJlc3Mgb3IgaW1wbGllZC4KLy8gU2VlIHRoZSBMaWNlbnNlIGZvciB0aGUgc3BlY2lmaWMgbGFuZ3VhZ2UgZ292ZXJuaW5nIHBlcm1pc3Npb25zIGFuZAovLyBsaW1pdGF0aW9ucyB1bmRlciB0aGUgTGljZW5zZS4KCi8qKgogKiBAZmlsZW92ZXJ2aWV3IEhlbHBlcnMgZm9yIGdvb2dsZS5jb2xhYiBQeXRob24gbW9kdWxlLgogKi8KKGZ1bmN0aW9uKHNjb3BlKSB7CmZ1bmN0aW9uIHNwYW4odGV4dCwgc3R5bGVBdHRyaWJ1dGVzID0ge30pIHsKICBjb25zdCBlbGVtZW50ID0gZG9jdW1lbnQuY3JlYXRlRWxlbWVudCgnc3BhbicpOwogIGVsZW1lbnQudGV4dENvbnRlbnQgPSB0ZXh0OwogIGZvciAoY29uc3Qga2V5IG9mIE9iamVjdC5rZXlzKHN0eWxlQXR0cmlidXRlcykpIHsKICAgIGVsZW1lbnQuc3R5bGVba2V5XSA9IHN0eWxlQXR0cmlidXRlc1trZXldOwogIH0KICByZXR1cm4gZWxlbWVudDsKfQoKLy8gTWF4IG51bWJlciBvZiBieXRlcyB3aGljaCB3aWxsIGJlIHVwbG9hZGVkIGF0IGEgdGltZS4KY29uc3QgTUFYX1BBWUxPQURfU0laRSA9IDEwMCAqIDEwMjQ7CgpmdW5jdGlvbiBfdXBsb2FkRmlsZXMoaW5wdXRJZCwgb3V0cHV0SWQpIHsKICBjb25zdCBzdGVwcyA9IHVwbG9hZEZpbGVzU3RlcChpbnB1dElkLCBvdXRwdXRJZCk7CiAgY29uc3Qgb3V0cHV0RWxlbWVudCA9IGRvY3VtZW50LmdldEVsZW1lbnRCeUlkKG91dHB1dElkKTsKICAvLyBDYWNoZSBzdGVwcyBvbiB0aGUgb3V0cHV0RWxlbWVudCB0byBtYWtlIGl0IGF2YWlsYWJsZSBmb3IgdGhlIG5leHQgY2FsbAogIC8vIHRvIHVwbG9hZEZpbGVzQ29udGludWUgZnJvbSBQeXRob24uCiAgb3V0cHV0RWxlbWVudC5zdGVwcyA9IHN0ZXBzOwoKICByZXR1cm4gX3VwbG9hZEZpbGVzQ29udGludWUob3V0cHV0SWQpOwp9CgovLyBUaGlzIGlzIHJvdWdobHkgYW4gYXN5bmMgZ2VuZXJhdG9yIChub3Qgc3VwcG9ydGVkIGluIHRoZSBicm93c2VyIHlldCksCi8vIHdoZXJlIHRoZXJlIGFyZSBtdWx0aXBsZSBhc3luY2hyb25vdXMgc3RlcHMgYW5kIHRoZSBQeXRob24gc2lkZSBpcyBnb2luZwovLyB0byBwb2xsIGZvciBjb21wbGV0aW9uIG9mIGVhY2ggc3RlcC4KLy8gVGhpcyB1c2VzIGEgUHJvbWlzZSB0byBibG9jayB0aGUgcHl0aG9uIHNpZGUgb24gY29tcGxldGlvbiBvZiBlYWNoIHN0ZXAsCi8vIHRoZW4gcGFzc2VzIHRoZSByZXN1bHQgb2YgdGhlIHByZXZpb3VzIHN0ZXAgYXMgdGhlIGlucHV0IHRvIHRoZSBuZXh0IHN0ZXAuCmZ1bmN0aW9uIF91cGxvYWRGaWxlc0NvbnRpbnVlKG91dHB1dElkKSB7CiAgY29uc3Qgb3V0cHV0RWxlbWVudCA9IGRvY3VtZW50LmdldEVsZW1lbnRCeUlkKG91dHB1dElkKTsKICBjb25zdCBzdGVwcyA9IG91dHB1dEVsZW1lbnQuc3RlcHM7CgogIGNvbnN0IG5leHQgPSBzdGVwcy5uZXh0KG91dHB1dEVsZW1lbnQubGFzdFByb21pc2VWYWx1ZSk7CiAgcmV0dXJuIFByb21pc2UucmVzb2x2ZShuZXh0LnZhbHVlLnByb21pc2UpLnRoZW4oKHZhbHVlKSA9PiB7CiAgICAvLyBDYWNoZSB0aGUgbGFzdCBwcm9taXNlIHZhbHVlIHRvIG1ha2UgaXQgYXZhaWxhYmxlIHRvIHRoZSBuZXh0CiAgICAvLyBzdGVwIG9mIHRoZSBnZW5lcmF0b3IuCiAgICBvdXRwdXRFbGVtZW50Lmxhc3RQcm9taXNlVmFsdWUgPSB2YWx1ZTsKICAgIHJldHVybiBuZXh0LnZhbHVlLnJlc3BvbnNlOwogIH0pOwp9CgovKioKICogR2VuZXJhdG9yIGZ1bmN0aW9uIHdoaWNoIGlzIGNhbGxlZCBiZXR3ZWVuIGVhY2ggYXN5bmMgc3RlcCBvZiB0aGUgdXBsb2FkCiAqIHByb2Nlc3MuCiAqIEBwYXJhbSB7c3RyaW5nfSBpbnB1dElkIEVsZW1lbnQgSUQgb2YgdGhlIGlucHV0IGZpbGUgcGlja2VyIGVsZW1lbnQuCiAqIEBwYXJhbSB7c3RyaW5nfSBvdXRwdXRJZCBFbGVtZW50IElEIG9mIHRoZSBvdXRwdXQgZGlzcGxheS4KICogQHJldHVybiB7IUl0ZXJhYmxlPCFPYmplY3Q+fSBJdGVyYWJsZSBvZiBuZXh0IHN0ZXBzLgogKi8KZnVuY3Rpb24qIHVwbG9hZEZpbGVzU3RlcChpbnB1dElkLCBvdXRwdXRJZCkgewogIGNvbnN0IGlucHV0RWxlbWVudCA9IGRvY3VtZW50LmdldEVsZW1lbnRCeUlkKGlucHV0SWQpOwogIGlucHV0RWxlbWVudC5kaXNhYmxlZCA9IGZhbHNlOwoKICBjb25zdCBvdXRwdXRFbGVtZW50ID0gZG9jdW1lbnQuZ2V0RWxlbWVudEJ5SWQob3V0cHV0SWQpOwogIG91dHB1dEVsZW1lbnQuaW5uZXJIVE1MID0gJyc7CgogIGNvbnN0IHBpY2tlZFByb21pc2UgPSBuZXcgUHJvbWlzZSgocmVzb2x2ZSkgPT4gewogICAgaW5wdXRFbGVtZW50LmFkZEV2ZW50TGlzdGVuZXIoJ2NoYW5nZScsIChlKSA9PiB7CiAgICAgIHJlc29sdmUoZS50YXJnZXQuZmlsZXMpOwogICAgfSk7CiAgfSk7CgogIGNvbnN0IGNhbmNlbCA9IGRvY3VtZW50LmNyZWF0ZUVsZW1lbnQoJ2J1dHRvbicpOwogIGlucHV0RWxlbWVudC5wYXJlbnRFbGVtZW50LmFwcGVuZENoaWxkKGNhbmNlbCk7CiAgY2FuY2VsLnRleHRDb250ZW50ID0gJ0NhbmNlbCB1cGxvYWQnOwogIGNvbnN0IGNhbmNlbFByb21pc2UgPSBuZXcgUHJvbWlzZSgocmVzb2x2ZSkgPT4gewogICAgY2FuY2VsLm9uY2xpY2sgPSAoKSA9PiB7CiAgICAgIHJlc29sdmUobnVsbCk7CiAgICB9OwogIH0pOwoKICAvLyBXYWl0IGZvciB0aGUgdXNlciB0byBwaWNrIHRoZSBmaWxlcy4KICBjb25zdCBmaWxlcyA9IHlpZWxkIHsKICAgIHByb21pc2U6IFByb21pc2UucmFjZShbcGlja2VkUHJvbWlzZSwgY2FuY2VsUHJvbWlzZV0pLAogICAgcmVzcG9uc2U6IHsKICAgICAgYWN0aW9uOiAnc3RhcnRpbmcnLAogICAgfQogIH07CgogIGNhbmNlbC5yZW1vdmUoKTsKCiAgLy8gRGlzYWJsZSB0aGUgaW5wdXQgZWxlbWVudCBzaW5jZSBmdXJ0aGVyIHBpY2tzIGFyZSBub3QgYWxsb3dlZC4KICBpbnB1dEVsZW1lbnQuZGlzYWJsZWQgPSB0cnVlOwoKICBpZiAoIWZpbGVzKSB7CiAgICByZXR1cm4gewogICAgICByZXNwb25zZTogewogICAgICAgIGFjdGlvbjogJ2NvbXBsZXRlJywKICAgICAgfQogICAgfTsKICB9CgogIGZvciAoY29uc3QgZmlsZSBvZiBmaWxlcykgewogICAgY29uc3QgbGkgPSBkb2N1bWVudC5jcmVhdGVFbGVtZW50KCdsaScpOwogICAgbGkuYXBwZW5kKHNwYW4oZmlsZS5uYW1lLCB7Zm9udFdlaWdodDogJ2JvbGQnfSkpOwogICAgbGkuYXBwZW5kKHNwYW4oCiAgICAgICAgYCgke2ZpbGUudHlwZSB8fCAnbi9hJ30pIC0gJHtmaWxlLnNpemV9IGJ5dGVzLCBgICsKICAgICAgICBgbGFzdCBtb2RpZmllZDogJHsKICAgICAgICAgICAgZmlsZS5sYXN0TW9kaWZpZWREYXRlID8gZmlsZS5sYXN0TW9kaWZpZWREYXRlLnRvTG9jYWxlRGF0ZVN0cmluZygpIDoKICAgICAgICAgICAgICAgICAgICAgICAgICAgICAgICAgICAgJ24vYSd9IC0gYCkpOwogICAgY29uc3QgcGVyY2VudCA9IHNwYW4oJzAlIGRvbmUnKTsKICAgIGxpLmFwcGVuZENoaWxkKHBlcmNlbnQpOwoKICAgIG91dHB1dEVsZW1lbnQuYXBwZW5kQ2hpbGQobGkpOwoKICAgIGNvbnN0IGZpbGVEYXRhUHJvbWlzZSA9IG5ldyBQcm9taXNlKChyZXNvbHZlKSA9PiB7CiAgICAgIGNvbnN0IHJlYWRlciA9IG5ldyBGaWxlUmVhZGVyKCk7CiAgICAgIHJlYWRlci5vbmxvYWQgPSAoZSkgPT4gewogICAgICAgIHJlc29sdmUoZS50YXJnZXQucmVzdWx0KTsKICAgICAgfTsKICAgICAgcmVhZGVyLnJlYWRBc0FycmF5QnVmZmVyKGZpbGUpOwogICAgfSk7CiAgICAvLyBXYWl0IGZvciB0aGUgZGF0YSB0byBiZSByZWFkeS4KICAgIGxldCBmaWxlRGF0YSA9IHlpZWxkIHsKICAgICAgcHJvbWlzZTogZmlsZURhdGFQcm9taXNlLAogICAgICByZXNwb25zZTogewogICAgICAgIGFjdGlvbjogJ2NvbnRpbnVlJywKICAgICAgfQogICAgfTsKCiAgICAvLyBVc2UgYSBjaHVua2VkIHNlbmRpbmcgdG8gYXZvaWQgbWVzc2FnZSBzaXplIGxpbWl0cy4gU2VlIGIvNjIxMTU2NjAuCiAgICBsZXQgcG9zaXRpb24gPSAwOwogICAgd2hpbGUgKHBvc2l0aW9uIDwgZmlsZURhdGEuYnl0ZUxlbmd0aCkgewogICAgICBjb25zdCBsZW5ndGggPSBNYXRoLm1pbihmaWxlRGF0YS5ieXRlTGVuZ3RoIC0gcG9zaXRpb24sIE1BWF9QQVlMT0FEX1NJWkUpOwogICAgICBjb25zdCBjaHVuayA9IG5ldyBVaW50OEFycmF5KGZpbGVEYXRhLCBwb3NpdGlvbiwgbGVuZ3RoKTsKICAgICAgcG9zaXRpb24gKz0gbGVuZ3RoOwoKICAgICAgY29uc3QgYmFzZTY0ID0gYnRvYShTdHJpbmcuZnJvbUNoYXJDb2RlLmFwcGx5KG51bGwsIGNodW5rKSk7CiAgICAgIHlpZWxkIHsKICAgICAgICByZXNwb25zZTogewogICAgICAgICAgYWN0aW9uOiAnYXBwZW5kJywKICAgICAgICAgIGZpbGU6IGZpbGUubmFtZSwKICAgICAgICAgIGRhdGE6IGJhc2U2NCwKICAgICAgICB9LAogICAgICB9OwogICAgICBwZXJjZW50LnRleHRDb250ZW50ID0KICAgICAgICAgIGAke01hdGgucm91bmQoKHBvc2l0aW9uIC8gZmlsZURhdGEuYnl0ZUxlbmd0aCkgKiAxMDApfSUgZG9uZWA7CiAgICB9CiAgfQoKICAvLyBBbGwgZG9uZS4KICB5aWVsZCB7CiAgICByZXNwb25zZTogewogICAgICBhY3Rpb246ICdjb21wbGV0ZScsCiAgICB9CiAgfTsKfQoKc2NvcGUuZ29vZ2xlID0gc2NvcGUuZ29vZ2xlIHx8IHt9OwpzY29wZS5nb29nbGUuY29sYWIgPSBzY29wZS5nb29nbGUuY29sYWIgfHwge307CnNjb3BlLmdvb2dsZS5jb2xhYi5fZmlsZXMgPSB7CiAgX3VwbG9hZEZpbGVzLAogIF91cGxvYWRGaWxlc0NvbnRpbnVlLAp9Owp9KShzZWxmKTsK",
              "ok": true,
              "headers": [
                [
                  "content-type",
                  "application/javascript"
                ]
              ],
              "status": 200,
              "status_text": ""
            }
          },
          "base_uri": "https://localhost:8080/",
          "height": 109
        },
        "id": "pFawFxw91fe-",
        "outputId": "51dca9f3-4349-4007-dc21-e077bd47b2ca"
      },
      "source": [
        "#Subo el dataset (spam.csv)\n",
        "files.upload()"
      ],
      "execution_count": 2,
      "outputs": [
        {
          "output_type": "display_data",
          "data": {
            "text/html": [
              "\n",
              "     <input type=\"file\" id=\"files-24dec0d6-251c-42fb-8378-ba1210f41f20\" name=\"files[]\" multiple disabled\n",
              "        style=\"border:none\" />\n",
              "     <output id=\"result-24dec0d6-251c-42fb-8378-ba1210f41f20\">\n",
              "      Upload widget is only available when the cell has been executed in the\n",
              "      current browser session. Please rerun this cell to enable.\n",
              "      </output>\n",
              "      <script src=\"/nbextensions/google.colab/files.js\"></script> "
            ],
            "text/plain": [
              "<IPython.core.display.HTML object>"
            ]
          },
          "metadata": {
            "tags": []
          }
        },
        {
          "output_type": "stream",
          "text": [
            "Saving spam.csv to spam.csv\n"
          ],
          "name": "stdout"
        },
        {
          "output_type": "execute_result",
          "data": {
            "text/plain": [
              "{'spam.csv':...}"
            ]
          },
          "metadata": {
            "tags": []
          },
          "execution_count": 2
        }
      ]
    },
    {
      "cell_type": "code",
      "metadata": {
        "colab": {
          "base_uri": "https://localhost:8080/"
        },
        "id": "PPQ5FaGN13wh",
        "outputId": "aff86d81-8520-4cf6-9655-f631eb6ad358"
      },
      "source": [
        "#Lo leo\n",
        "df = pd.read_csv('spam.csv', encoding='latin1')\n",
        "len(df)"
      ],
      "execution_count": 3,
      "outputs": [
        {
          "output_type": "execute_result",
          "data": {
            "text/plain": [
              "5572"
            ]
          },
          "metadata": {
            "tags": []
          },
          "execution_count": 3
        }
      ]
    },
    {
      "cell_type": "code",
      "metadata": {
        "colab": {
          "base_uri": "https://localhost:8080/",
          "height": 195
        },
        "id": "DcmsM5Ln2tbo",
        "outputId": "edaf049c-7c31-42ff-f1e3-a11d6f4ecbfa"
      },
      "source": [
        "#El dataset contiene caracteres extraños que confunden la lectura y se crean tres columnas extras.\n",
        "df.head()"
      ],
      "execution_count": null,
      "outputs": [
        {
          "output_type": "execute_result",
          "data": {
            "text/html": [
              "<div>\n",
              "<style scoped>\n",
              "    .dataframe tbody tr th:only-of-type {\n",
              "        vertical-align: middle;\n",
              "    }\n",
              "\n",
              "    .dataframe tbody tr th {\n",
              "        vertical-align: top;\n",
              "    }\n",
              "\n",
              "    .dataframe thead th {\n",
              "        text-align: right;\n",
              "    }\n",
              "</style>\n",
              "<table border=\"1\" class=\"dataframe\">\n",
              "  <thead>\n",
              "    <tr style=\"text-align: right;\">\n",
              "      <th></th>\n",
              "      <th>v1</th>\n",
              "      <th>v2</th>\n",
              "      <th>Unnamed: 2</th>\n",
              "      <th>Unnamed: 3</th>\n",
              "      <th>Unnamed: 4</th>\n",
              "    </tr>\n",
              "  </thead>\n",
              "  <tbody>\n",
              "    <tr>\n",
              "      <th>0</th>\n",
              "      <td>ham</td>\n",
              "      <td>Go until jurong point, crazy.. Available only ...</td>\n",
              "      <td>NaN</td>\n",
              "      <td>NaN</td>\n",
              "      <td>NaN</td>\n",
              "    </tr>\n",
              "    <tr>\n",
              "      <th>1</th>\n",
              "      <td>ham</td>\n",
              "      <td>Ok lar... Joking wif u oni...</td>\n",
              "      <td>NaN</td>\n",
              "      <td>NaN</td>\n",
              "      <td>NaN</td>\n",
              "    </tr>\n",
              "    <tr>\n",
              "      <th>2</th>\n",
              "      <td>spam</td>\n",
              "      <td>Free entry in 2 a wkly comp to win FA Cup fina...</td>\n",
              "      <td>NaN</td>\n",
              "      <td>NaN</td>\n",
              "      <td>NaN</td>\n",
              "    </tr>\n",
              "    <tr>\n",
              "      <th>3</th>\n",
              "      <td>ham</td>\n",
              "      <td>U dun say so early hor... U c already then say...</td>\n",
              "      <td>NaN</td>\n",
              "      <td>NaN</td>\n",
              "      <td>NaN</td>\n",
              "    </tr>\n",
              "    <tr>\n",
              "      <th>4</th>\n",
              "      <td>ham</td>\n",
              "      <td>Nah I don't think he goes to usf, he lives aro...</td>\n",
              "      <td>NaN</td>\n",
              "      <td>NaN</td>\n",
              "      <td>NaN</td>\n",
              "    </tr>\n",
              "  </tbody>\n",
              "</table>\n",
              "</div>"
            ],
            "text/plain": [
              "     v1  ... Unnamed: 4\n",
              "0   ham  ...        NaN\n",
              "1   ham  ...        NaN\n",
              "2  spam  ...        NaN\n",
              "3   ham  ...        NaN\n",
              "4   ham  ...        NaN\n",
              "\n",
              "[5 rows x 5 columns]"
            ]
          },
          "metadata": {
            "tags": []
          },
          "execution_count": 4
        }
      ]
    },
    {
      "cell_type": "code",
      "metadata": {
        "colab": {
          "base_uri": "https://localhost:8080/"
        },
        "id": "kHPJCcH6Ewe0",
        "outputId": "c52503b7-925b-4da5-b593-75537ecf1727"
      },
      "source": [
        "#Proporción de spam \n",
        "np.mean(df[\"v1\"] == \"spam\")"
      ],
      "execution_count": 4,
      "outputs": [
        {
          "output_type": "execute_result",
          "data": {
            "text/plain": [
              "0.13406317300789664"
            ]
          },
          "metadata": {
            "tags": []
          },
          "execution_count": 4
        }
      ]
    },
    {
      "cell_type": "code",
      "metadata": {
        "colab": {
          "base_uri": "https://localhost:8080/"
        },
        "id": "is9NyzzJ7jR5",
        "outputId": "1d57949c-7ea2-4326-ffb3-0f878d836eaf"
      },
      "source": [
        "#Son pocos registros en comparación con el total del dataset así que los elimino\n",
        "df.iloc[:,2].unique()"
      ],
      "execution_count": 5,
      "outputs": [
        {
          "output_type": "execute_result",
          "data": {
            "text/plain": [
              "array([nan, ' PO Box 5249',\n",
              "       ' the person is definitely special for u..... But if the person is so special',\n",
              "       ' HOWU DOIN? FOUNDURSELF A JOBYET SAUSAGE?LOVE JEN XXX\\\\\"\"',\n",
              "       ' wanted to say hi. HI!!!\\\\\" Stop? Send STOP to 62468\"',\n",
              "       'this wont even start........ Datz confidence..\"', 'GN',\n",
              "       '.;-):-D\"',\n",
              "       'just been in bedbut mite go 2 thepub l8tr if uwana mt up?loads a luv Jenxxx.\\\\\"\"',\n",
              "       ' bt not his girlfrnd... G o o d n i g h t . . .@\"',\n",
              "       ' I\\'ll come up\"',\n",
              "       ' don\\'t miss ur best life for anything... Gud nyt...\"',\n",
              "       ' just as a shop has to give a guarantee on what they sell. B. G.\"',\n",
              "       ' But at d end my love compromised me for everything:-(\\\\\".. Gud mornin:-)\"',\n",
              "       ' the toughest is acting Happy with all unspoken pain inside..\\\\\"\"',\n",
              "       ' smoke hella weed\\\\\"\"', '\\\\\" not \\\\\"what i need to do.\\\\\"\"',\n",
              "       'JUST GOT PAYED2DAY & I HAVBEEN GIVEN Aå£50 PAY RISE 4MY WORK & HAVEBEEN MADE PRESCHOOLCO-ORDINATOR 2I AM FEELINGOOD LUV\\\\\"\"',\n",
              "       ' justthought iåÕd sayhey! how u doin?nearly the endof me wk offdam nevamind!We will have 2Hook up sn if uwant m8? loveJen x.\\\\\"\"',\n",
              "       'JUST REALLYNEED 2DOCD.PLEASE DONTPLEASE DONTIGNORE MYCALLS',\n",
              "       'u hav2hear it!c u sn xxxx\\\\\"\"', \" I don't mind\",\n",
              "       ' Dont Come Near My Body..!! Bcoz My Hands May Not Come 2 Wipe Ur Tears Off That Time..!Gud ni8\"',\n",
              "       \"Well there's still a bit left if you guys want to tonight\",\n",
              "       ' but dont try to prove\\\\\" ..... Gud mrng...\"',\n",
              "       ' SHE SHUDVETOLD U. DID URGRAN KNOW?NEWAY',\n",
              "       ' but watever u shared should be true\\\\\"....\"',\n",
              "       ' like you are the KING\\\\\"...! OR \\\\\"Walk like you Dont care',\n",
              "       ' HAD A COOL NYTHO', ' PO Box 1146 MK45 2WT (2/3)\"',\n",
              "       ' \\\\\"It is d wonderful fruit that a tree gives when it is being hurt by a stone.. Good night......\"',\n",
              "       ' we made you hold all the weed\\\\\"\"',\n",
              "       ' but dont try to prove it..\\\\\" .Gud noon....\"',\n",
              "       ' its a miracle to Love a person who can\\'t Love anyone except U...\\\\\" Gud nyt...\"',\n",
              "       ' Gud night....\"',\n",
              "       ' that\\'s the tiny street where the parking lot is\"',\n",
              "       'PROBPOP IN & CU SATTHEN HUNNY 4BREKKIE! LOVE JEN XXX. PSXTRA LRG PORTIONS 4 ME PLEASE \\\\\"\"',\n",
              "       ' hopeSo hunny. i amnow feelin ill & ithink i may have tonsolitusaswell! damn iam layin in bedreal bored. lotsof luv me xxxx\\\\\"\"',\n",
              "       ' GOD said',\n",
              "       ' always give response 2 who cares 4 U\\\\\"... Gud night..swt dreams..take care\"',\n",
              "       ' HOPE UR OK... WILL GIVE U A BUZ WEDLUNCH. GO OUTSOMEWHERE 4 ADRINK IN TOWN..CUD GO 2WATERSHD 4 A BIT? PPL FROMWRK WILL BTHERE. LOVE PETEXXX.\\\\\"\"',\n",
              "       ' b\\'coz nobody will fight for u. Only u &amp; u have to fight for ur self &amp; win the battle. -VIVEKANAND- G 9t.. SD..\"',\n",
              "       'DEVIOUSBITCH.ANYWAY',\n",
              "       ' ENJOYIN INDIANS AT THE MO..yeP. SaLL gOoD HehE ;> hows bout u shexy? Pete Xx\\\\\"\"'],\n",
              "      dtype=object)"
            ]
          },
          "metadata": {
            "tags": []
          },
          "execution_count": 5
        }
      ]
    },
    {
      "cell_type": "code",
      "metadata": {
        "id": "g3GEU4GS2cte"
      },
      "source": [
        "i1 = df.iloc[:, 2].isnull()"
      ],
      "execution_count": 6,
      "outputs": []
    },
    {
      "cell_type": "code",
      "metadata": {
        "id": "b1a-74s96OqF"
      },
      "source": [
        "df = df[i1]"
      ],
      "execution_count": 7,
      "outputs": []
    },
    {
      "cell_type": "code",
      "metadata": {
        "id": "yArKxZjg7wu2"
      },
      "source": [
        "df = df.iloc[:,0:2]\n"
      ],
      "execution_count": 8,
      "outputs": []
    },
    {
      "cell_type": "code",
      "metadata": {
        "colab": {
          "base_uri": "https://localhost:8080/",
          "height": 204
        },
        "id": "Q5Epul3Z_aUA",
        "outputId": "7558b5ea-7e98-4ca4-c53f-0b00566947e9"
      },
      "source": [
        "df.rename(columns={'v1': 'target', \"v2\": \"text\"}, inplace=True)\n",
        "df.head()"
      ],
      "execution_count": 9,
      "outputs": [
        {
          "output_type": "execute_result",
          "data": {
            "text/html": [
              "<div>\n",
              "<style scoped>\n",
              "    .dataframe tbody tr th:only-of-type {\n",
              "        vertical-align: middle;\n",
              "    }\n",
              "\n",
              "    .dataframe tbody tr th {\n",
              "        vertical-align: top;\n",
              "    }\n",
              "\n",
              "    .dataframe thead th {\n",
              "        text-align: right;\n",
              "    }\n",
              "</style>\n",
              "<table border=\"1\" class=\"dataframe\">\n",
              "  <thead>\n",
              "    <tr style=\"text-align: right;\">\n",
              "      <th></th>\n",
              "      <th>target</th>\n",
              "      <th>text</th>\n",
              "    </tr>\n",
              "  </thead>\n",
              "  <tbody>\n",
              "    <tr>\n",
              "      <th>0</th>\n",
              "      <td>ham</td>\n",
              "      <td>Go until jurong point, crazy.. Available only ...</td>\n",
              "    </tr>\n",
              "    <tr>\n",
              "      <th>1</th>\n",
              "      <td>ham</td>\n",
              "      <td>Ok lar... Joking wif u oni...</td>\n",
              "    </tr>\n",
              "    <tr>\n",
              "      <th>2</th>\n",
              "      <td>spam</td>\n",
              "      <td>Free entry in 2 a wkly comp to win FA Cup fina...</td>\n",
              "    </tr>\n",
              "    <tr>\n",
              "      <th>3</th>\n",
              "      <td>ham</td>\n",
              "      <td>U dun say so early hor... U c already then say...</td>\n",
              "    </tr>\n",
              "    <tr>\n",
              "      <th>4</th>\n",
              "      <td>ham</td>\n",
              "      <td>Nah I don't think he goes to usf, he lives aro...</td>\n",
              "    </tr>\n",
              "  </tbody>\n",
              "</table>\n",
              "</div>"
            ],
            "text/plain": [
              "  target                                               text\n",
              "0    ham  Go until jurong point, crazy.. Available only ...\n",
              "1    ham                      Ok lar... Joking wif u oni...\n",
              "2   spam  Free entry in 2 a wkly comp to win FA Cup fina...\n",
              "3    ham  U dun say so early hor... U c already then say...\n",
              "4    ham  Nah I don't think he goes to usf, he lives aro..."
            ]
          },
          "metadata": {
            "tags": []
          },
          "execution_count": 9
        }
      ]
    },
    {
      "cell_type": "code",
      "metadata": {
        "colab": {
          "base_uri": "https://localhost:8080/"
        },
        "id": "yiEbupdd7_cA",
        "outputId": "2008d6b4-878e-4abd-f9d1-989aaa71f297"
      },
      "source": [
        "#Se eliminaron 50 filas de las 5577 y se aprecia que no se perdieron muchos spam, ya que la proporción de spam en el dataset aumenta un poco\n",
        "len(df), np.mean(df[\"target\"] == \"spam\")"
      ],
      "execution_count": 10,
      "outputs": [
        {
          "output_type": "execute_result",
          "data": {
            "text/plain": [
              "(5522, 0.1343716044911264)"
            ]
          },
          "metadata": {
            "tags": []
          },
          "execution_count": 10
        }
      ]
    },
    {
      "cell_type": "code",
      "metadata": {
        "id": "w36O3w5Y_4Mf"
      },
      "source": [
        "#A continuación divido el dataset en train y test. Utilizo stratify para que haya el mismo porcentaje de spam en train y en test\n",
        "train, test = train_test_split(df, stratify = df['target'], test_size = 0.3, random_state=123)"
      ],
      "execution_count": 11,
      "outputs": []
    },
    {
      "cell_type": "code",
      "metadata": {
        "colab": {
          "base_uri": "https://localhost:8080/"
        },
        "id": "3ue1Ho0TAnnA",
        "outputId": "9064fd85-b18c-4e39-ada0-8d50f76a7ff6"
      },
      "source": [
        "#se comprueba la proporción de span en train y test\n",
        "len(train[train[\"target\"] == \"spam\"]) / len(train), len(test[test[\"target\"] == \"spam\"]) / len(test)"
      ],
      "execution_count": 12,
      "outputs": [
        {
          "output_type": "execute_result",
          "data": {
            "text/plain": [
              "(0.13428201811125484, 0.13458056729028364)"
            ]
          },
          "metadata": {
            "tags": []
          },
          "execution_count": 12
        }
      ]
    },
    {
      "cell_type": "code",
      "metadata": {
        "colab": {
          "base_uri": "https://localhost:8080/"
        },
        "id": "R2_yryMqT4zB",
        "outputId": "67772f8c-b2b9-4e41-c33b-1bf0741ae2f2"
      },
      "source": [
        "train[\"target\"] = (train[\"target\"] == \"spam\").astype(int)\n",
        "test[\"target\"] = (test[\"target\"] == \"spam\").astype(int);"
      ],
      "execution_count": 13,
      "outputs": [
        {
          "output_type": "stream",
          "text": [
            "/usr/local/lib/python3.7/dist-packages/ipykernel_launcher.py:1: SettingWithCopyWarning: \n",
            "A value is trying to be set on a copy of a slice from a DataFrame.\n",
            "Try using .loc[row_indexer,col_indexer] = value instead\n",
            "\n",
            "See the caveats in the documentation: https://pandas.pydata.org/pandas-docs/stable/user_guide/indexing.html#returning-a-view-versus-a-copy\n",
            "  \"\"\"Entry point for launching an IPython kernel.\n",
            "/usr/local/lib/python3.7/dist-packages/ipykernel_launcher.py:2: SettingWithCopyWarning: \n",
            "A value is trying to be set on a copy of a slice from a DataFrame.\n",
            "Try using .loc[row_indexer,col_indexer] = value instead\n",
            "\n",
            "See the caveats in the documentation: https://pandas.pydata.org/pandas-docs/stable/user_guide/indexing.html#returning-a-view-versus-a-copy\n",
            "  \n"
          ],
          "name": "stderr"
        }
      ]
    },
    {
      "cell_type": "code",
      "metadata": {
        "colab": {
          "base_uri": "https://localhost:8080/",
          "height": 204
        },
        "id": "Sl1HzgtgUXsV",
        "outputId": "c6246687-76a4-429b-8738-3bf8ab160b16"
      },
      "source": [
        "#El resultado final es un dataset compuesto por dos columnas target (1 si es spam, 0 si no lo es) y text.\n",
        "train.sample(5)"
      ],
      "execution_count": 14,
      "outputs": [
        {
          "output_type": "execute_result",
          "data": {
            "text/html": [
              "<div>\n",
              "<style scoped>\n",
              "    .dataframe tbody tr th:only-of-type {\n",
              "        vertical-align: middle;\n",
              "    }\n",
              "\n",
              "    .dataframe tbody tr th {\n",
              "        vertical-align: top;\n",
              "    }\n",
              "\n",
              "    .dataframe thead th {\n",
              "        text-align: right;\n",
              "    }\n",
              "</style>\n",
              "<table border=\"1\" class=\"dataframe\">\n",
              "  <thead>\n",
              "    <tr style=\"text-align: right;\">\n",
              "      <th></th>\n",
              "      <th>target</th>\n",
              "      <th>text</th>\n",
              "    </tr>\n",
              "  </thead>\n",
              "  <tbody>\n",
              "    <tr>\n",
              "      <th>2604</th>\n",
              "      <td>0</td>\n",
              "      <td>You call times job today ok umma and ask them ...</td>\n",
              "    </tr>\n",
              "    <tr>\n",
              "      <th>2940</th>\n",
              "      <td>0</td>\n",
              "      <td>My supervisor find 4 me one lor i thk his stud...</td>\n",
              "    </tr>\n",
              "    <tr>\n",
              "      <th>2061</th>\n",
              "      <td>0</td>\n",
              "      <td>Hey ! I want you ! I crave you ! I miss you ! ...</td>\n",
              "    </tr>\n",
              "    <tr>\n",
              "      <th>2169</th>\n",
              "      <td>1</td>\n",
              "      <td>Shop till u Drop, IS IT YOU, either 10K, 5K, å...</td>\n",
              "    </tr>\n",
              "    <tr>\n",
              "      <th>4897</th>\n",
              "      <td>0</td>\n",
              "      <td>Oh for fuck's sake she's in like tallahassee</td>\n",
              "    </tr>\n",
              "  </tbody>\n",
              "</table>\n",
              "</div>"
            ],
            "text/plain": [
              "      target                                               text\n",
              "2604       0  You call times job today ok umma and ask them ...\n",
              "2940       0  My supervisor find 4 me one lor i thk his stud...\n",
              "2061       0  Hey ! I want you ! I crave you ! I miss you ! ...\n",
              "2169       1  Shop till u Drop, IS IT YOU, either 10K, 5K, å...\n",
              "4897       0       Oh for fuck's sake she's in like tallahassee"
            ]
          },
          "metadata": {
            "tags": []
          },
          "execution_count": 14
        }
      ]
    },
    {
      "cell_type": "code",
      "metadata": {
        "colab": {
          "base_uri": "https://localhost:8080/"
        },
        "id": "hrbdZd-gXEGv",
        "outputId": "4ec0f746-dbd4-4775-8bd9-c7a48ca03937"
      },
      "source": [
        "#Por último voy a revisar los nulos por si acaso. Veo que no hay ninguno.\n",
        "sum(df[\"text\"].isnull())"
      ],
      "execution_count": 15,
      "outputs": [
        {
          "output_type": "execute_result",
          "data": {
            "text/plain": [
              "0"
            ]
          },
          "metadata": {
            "tags": []
          },
          "execution_count": 15
        }
      ]
    },
    {
      "cell_type": "code",
      "metadata": {
        "id": "00ijoaIcaTCU"
      },
      "source": [
        "#Divido entre target y text\n",
        "\n",
        "X_train = train[\"text\"]\n",
        "y_train = train[\"target\"]\n",
        "\n",
        "X_test = test[\"text\"]\n",
        "y_test = test[\"target\"]"
      ],
      "execution_count": 16,
      "outputs": []
    },
    {
      "cell_type": "markdown",
      "metadata": {
        "id": "kLB4VBAyDf3X"
      },
      "source": [
        "### Ya tengo los datos preparados para comenzar a trabajar con los modelos.\n"
      ]
    },
    {
      "cell_type": "markdown",
      "metadata": {
        "id": "EKjKcCLWVMkB"
      },
      "source": [
        "### **SVC**\n",
        "Este modelo se basa en la proyección de los datos a un espacio dimensional mayor hasta que sea capaz de trazar un hiperplano que divida ambas categorías y posteriormente vuelve a la dimensión original. Suele dar buenos resultados a la hora de clasificar texto."
      ]
    },
    {
      "cell_type": "code",
      "metadata": {
        "id": "QuQJgsu0jhqb"
      },
      "source": [
        "from sklearn.svm import SVC"
      ],
      "execution_count": 17,
      "outputs": []
    },
    {
      "cell_type": "markdown",
      "metadata": {
        "id": "T63pW1BcYWT4"
      },
      "source": [
        "Para poder utilizar el algoritmo primero hay que convertir el texto a números, para ello voy a utilizar dos propuestas: Counvectorizer (realizar una matriz en la que se contabilice el número de ocurrencias de cada palabra) y tfidfvecorizer (en este caso a la ocurrencia de cada término se le divide por la frecuencia que tiene en todos los documentos, con el fin de restar importancia a palabras que aporten menos significado)."
      ]
    },
    {
      "cell_type": "code",
      "metadata": {
        "id": "52ndX-tyYTjf"
      },
      "source": [
        "from sklearn.feature_extraction.text import CountVectorizer\n",
        "from sklearn.feature_extraction.text import TfidfVectorizer"
      ],
      "execution_count": 18,
      "outputs": []
    },
    {
      "cell_type": "markdown",
      "metadata": {
        "id": "7W54Rwf_sfP0"
      },
      "source": [
        "Además, de cara a optimizar el SVC y el Naives Bayes voy a utilizar GridSearchCV."
      ]
    },
    {
      "cell_type": "code",
      "metadata": {
        "id": "tzdYBkOjo8cH"
      },
      "source": [
        "from sklearn.model_selection import GridSearchCV"
      ],
      "execution_count": 19,
      "outputs": []
    },
    {
      "cell_type": "markdown",
      "metadata": {
        "id": "sUIDXzn82mGp"
      },
      "source": [
        "### CV"
      ]
    },
    {
      "cell_type": "code",
      "metadata": {
        "id": "Qa1_LIikZn5J"
      },
      "source": [
        "cv = CountVectorizer()\n",
        "X_train_cv = cv.fit_transform(X_train)\n",
        "X_test_cv = cv.transform(X_test)"
      ],
      "execution_count": 20,
      "outputs": []
    },
    {
      "cell_type": "code",
      "metadata": {
        "id": "7Y-NbZV_pcw3"
      },
      "source": [
        "parameters = { 'C':[0.0001, 0.001, 0.01, 0.1, 1, 10], 'kernel':('linear', 'poly', 'rbf', 'sigmoid'), 'degree':[2,3,4,5,6], 'gamma':('scale', 'auto')}\n",
        "svc = SVC(random_state = 1)\n",
        "gs_svc = GridSearchCV(svc, parameters)"
      ],
      "execution_count": 21,
      "outputs": []
    },
    {
      "cell_type": "code",
      "metadata": {
        "id": "QIVx_AAf4gji"
      },
      "source": [
        "gs_svc_cv = gs_svc.fit(X_train_cv, y_train)"
      ],
      "execution_count": null,
      "outputs": []
    },
    {
      "cell_type": "code",
      "metadata": {
        "id": "taBefQ7TwPOg"
      },
      "source": [
        "df_gs_svc_cv = pd.DataFrame(gs_svc_cv.cv_results_).loc[:,[\"param_C\",\t\"param_degree\",\t\"param_gamma\", \"param_kernel\", \"params\", \"mean_test_score\", \"std_test_score\"]].sort_values(by = [\"mean_test_score\"], ascending=False)"
      ],
      "execution_count": null,
      "outputs": []
    },
    {
      "cell_type": "code",
      "metadata": {
        "colab": {
          "base_uri": "https://localhost:8080/",
          "height": 359
        },
        "id": "07sctdb0ygxR",
        "outputId": "88af5cf3-54d5-4ebd-b731-f4ca91556d37"
      },
      "source": [
        "df_gs_svc_cv.head(10)"
      ],
      "execution_count": null,
      "outputs": [
        {
          "output_type": "execute_result",
          "data": {
            "text/html": [
              "<div>\n",
              "<style scoped>\n",
              "    .dataframe tbody tr th:only-of-type {\n",
              "        vertical-align: middle;\n",
              "    }\n",
              "\n",
              "    .dataframe tbody tr th {\n",
              "        vertical-align: top;\n",
              "    }\n",
              "\n",
              "    .dataframe thead th {\n",
              "        text-align: right;\n",
              "    }\n",
              "</style>\n",
              "<table border=\"1\" class=\"dataframe\">\n",
              "  <thead>\n",
              "    <tr style=\"text-align: right;\">\n",
              "      <th></th>\n",
              "      <th>param_C</th>\n",
              "      <th>param_degree</th>\n",
              "      <th>param_gamma</th>\n",
              "      <th>param_kernel</th>\n",
              "      <th>params</th>\n",
              "      <th>mean_test_score</th>\n",
              "      <th>std_test_score</th>\n",
              "    </tr>\n",
              "  </thead>\n",
              "  <tbody>\n",
              "    <tr>\n",
              "      <th>184</th>\n",
              "      <td>1</td>\n",
              "      <td>5</td>\n",
              "      <td>scale</td>\n",
              "      <td>linear</td>\n",
              "      <td>{'C': 1, 'degree': 5, 'gamma': 'scale', 'kerne...</td>\n",
              "      <td>0.983182</td>\n",
              "      <td>0.004008</td>\n",
              "    </tr>\n",
              "    <tr>\n",
              "      <th>160</th>\n",
              "      <td>1</td>\n",
              "      <td>2</td>\n",
              "      <td>scale</td>\n",
              "      <td>linear</td>\n",
              "      <td>{'C': 1, 'degree': 2, 'gamma': 'scale', 'kerne...</td>\n",
              "      <td>0.983182</td>\n",
              "      <td>0.004008</td>\n",
              "    </tr>\n",
              "    <tr>\n",
              "      <th>200</th>\n",
              "      <td>10</td>\n",
              "      <td>2</td>\n",
              "      <td>scale</td>\n",
              "      <td>linear</td>\n",
              "      <td>{'C': 10, 'degree': 2, 'gamma': 'scale', 'kern...</td>\n",
              "      <td>0.983182</td>\n",
              "      <td>0.004091</td>\n",
              "    </tr>\n",
              "    <tr>\n",
              "      <th>196</th>\n",
              "      <td>1</td>\n",
              "      <td>6</td>\n",
              "      <td>auto</td>\n",
              "      <td>linear</td>\n",
              "      <td>{'C': 1, 'degree': 6, 'gamma': 'auto', 'kernel...</td>\n",
              "      <td>0.983182</td>\n",
              "      <td>0.004008</td>\n",
              "    </tr>\n",
              "    <tr>\n",
              "      <th>192</th>\n",
              "      <td>1</td>\n",
              "      <td>6</td>\n",
              "      <td>scale</td>\n",
              "      <td>linear</td>\n",
              "      <td>{'C': 1, 'degree': 6, 'gamma': 'scale', 'kerne...</td>\n",
              "      <td>0.983182</td>\n",
              "      <td>0.004008</td>\n",
              "    </tr>\n",
              "    <tr>\n",
              "      <th>212</th>\n",
              "      <td>10</td>\n",
              "      <td>3</td>\n",
              "      <td>auto</td>\n",
              "      <td>linear</td>\n",
              "      <td>{'C': 10, 'degree': 3, 'gamma': 'auto', 'kerne...</td>\n",
              "      <td>0.983182</td>\n",
              "      <td>0.004091</td>\n",
              "    </tr>\n",
              "    <tr>\n",
              "      <th>188</th>\n",
              "      <td>1</td>\n",
              "      <td>5</td>\n",
              "      <td>auto</td>\n",
              "      <td>linear</td>\n",
              "      <td>{'C': 1, 'degree': 5, 'gamma': 'auto', 'kernel...</td>\n",
              "      <td>0.983182</td>\n",
              "      <td>0.004008</td>\n",
              "    </tr>\n",
              "    <tr>\n",
              "      <th>180</th>\n",
              "      <td>1</td>\n",
              "      <td>4</td>\n",
              "      <td>auto</td>\n",
              "      <td>linear</td>\n",
              "      <td>{'C': 1, 'degree': 4, 'gamma': 'auto', 'kernel...</td>\n",
              "      <td>0.983182</td>\n",
              "      <td>0.004008</td>\n",
              "    </tr>\n",
              "    <tr>\n",
              "      <th>216</th>\n",
              "      <td>10</td>\n",
              "      <td>4</td>\n",
              "      <td>scale</td>\n",
              "      <td>linear</td>\n",
              "      <td>{'C': 10, 'degree': 4, 'gamma': 'scale', 'kern...</td>\n",
              "      <td>0.983182</td>\n",
              "      <td>0.004091</td>\n",
              "    </tr>\n",
              "    <tr>\n",
              "      <th>176</th>\n",
              "      <td>1</td>\n",
              "      <td>4</td>\n",
              "      <td>scale</td>\n",
              "      <td>linear</td>\n",
              "      <td>{'C': 1, 'degree': 4, 'gamma': 'scale', 'kerne...</td>\n",
              "      <td>0.983182</td>\n",
              "      <td>0.004008</td>\n",
              "    </tr>\n",
              "  </tbody>\n",
              "</table>\n",
              "</div>"
            ],
            "text/plain": [
              "    param_C param_degree  ... mean_test_score std_test_score\n",
              "184       1            5  ...        0.983182       0.004008\n",
              "160       1            2  ...        0.983182       0.004008\n",
              "200      10            2  ...        0.983182       0.004091\n",
              "196       1            6  ...        0.983182       0.004008\n",
              "192       1            6  ...        0.983182       0.004008\n",
              "212      10            3  ...        0.983182       0.004091\n",
              "188       1            5  ...        0.983182       0.004008\n",
              "180       1            4  ...        0.983182       0.004008\n",
              "216      10            4  ...        0.983182       0.004091\n",
              "176       1            4  ...        0.983182       0.004008\n",
              "\n",
              "[10 rows x 7 columns]"
            ]
          },
          "metadata": {
            "tags": []
          },
          "execution_count": 55
        }
      ]
    },
    {
      "cell_type": "code",
      "metadata": {
        "id": "2fBA_P_AcDlD"
      },
      "source": [
        "#Creo una función para evaluar los modelos\n",
        "def scores(name, model, X, y_true):\n",
        "    from sklearn.metrics import accuracy_score, precision_score, recall_score\n",
        "    y_hat = model.predict(X)\n",
        "    precision = accuracy_score(y_true, y_hat)\n",
        "    exactitud = precision_score(y_true, y_hat)\n",
        "    exhaustividad = recall_score(y_true, y_hat)\n",
        "    print(\"\"\" Scores {name}\n",
        "        Accuracy: {precision}\n",
        "        Precision: {exactitud}\n",
        "        Recall: {exhaustividad}\"\"\".format(name = name,\n",
        "                                                 precision = precision,\n",
        "                                                 exactitud = exactitud,\n",
        "                                                 exhaustividad = exhaustividad))"
      ],
      "execution_count": 22,
      "outputs": []
    },
    {
      "cell_type": "code",
      "metadata": {
        "colab": {
          "base_uri": "https://localhost:8080/"
        },
        "id": "__52SbpzcLJf",
        "outputId": "7cda147f-b0e2-4e1b-c7a5-fb97b9db11a5"
      },
      "source": [
        "scores(\"SVC CountVectorizer\", gs_svc_cv, X_test_cv, y_test)"
      ],
      "execution_count": null,
      "outputs": [
        {
          "output_type": "stream",
          "text": [
            " Scores SVC CountVectorizer\n",
            "        Accuracy: 0.9818949909474954\n",
            "        Precision: 0.9800995024875622\n",
            "        Recall: 0.8834080717488789\n"
          ],
          "name": "stdout"
        }
      ]
    },
    {
      "cell_type": "code",
      "metadata": {
        "id": "yd4RZdkyMHo4"
      },
      "source": [
        "from sklearn.metrics import confusion_matrix\n"
      ],
      "execution_count": 23,
      "outputs": []
    },
    {
      "cell_type": "code",
      "metadata": {
        "id": "tB3bKeSa4cGd"
      },
      "source": [
        "confusion_matrix(y_test, gs_svc_cv.predict(X_test_cv))"
      ],
      "execution_count": null,
      "outputs": []
    },
    {
      "cell_type": "markdown",
      "metadata": {
        "id": "zPdxWy7xbwVK"
      },
      "source": [
        "Veo que un SVC con C = 1 y kernel lineal obtiene un Accuray del 98,19% lo cual es bastante bueno. EL recall es bastante más bajo, esta medida penaliza los falsos negativos (spam clasificado como ham), es decir, que el error que está cometiendo el algoritmo es clasificar spam como no spam, y al ser estos una proporción bastante baja del dataset el accuracy no se ve tan afectado.\n",
        "\n",
        "Por otro lado, se observa que clasifica 4 hams como spam. Lo cual en la práctica podría ser un problema.\n"
      ]
    },
    {
      "cell_type": "markdown",
      "metadata": {
        "id": "MEwgznn42qno"
      },
      "source": [
        "### Tfidf"
      ]
    },
    {
      "cell_type": "code",
      "metadata": {
        "id": "Fbr6AvZPfpGK"
      },
      "source": [
        "tfidf =  TfidfVectorizer()\n",
        "X_train_tfidf = tfidf.fit_transform(X_train)\n",
        "X_test_tfidf = tfidf.transform(X_test)"
      ],
      "execution_count": 24,
      "outputs": []
    },
    {
      "cell_type": "markdown",
      "metadata": {
        "id": "LBNAOD5k3oQd"
      },
      "source": [
        "Teniendo en cuenta los resultados anteriores voy a ajustar un poco los parámetros de GridSearchCV, en base a los resultados veré si es interesante probar con el total de los parámetros al igual que en caso anterior."
      ]
    },
    {
      "cell_type": "code",
      "metadata": {
        "id": "D4vsIkAT3mAA"
      },
      "source": [
        "parameters = { 'C':[0.01, 0.1, 1, 10, 100], 'kernel':('linear', 'rbf'), 'gamma':('scale', 'auto')}\n",
        "gs_svc = GridSearchCV(svc, parameters)"
      ],
      "execution_count": 25,
      "outputs": []
    },
    {
      "cell_type": "code",
      "metadata": {
        "id": "P9WlqCU2uE6Q"
      },
      "source": [
        "gs_svc_tfidf = gs_svc.fit(X_train_tfidf, y_train)"
      ],
      "execution_count": 26,
      "outputs": []
    },
    {
      "cell_type": "code",
      "metadata": {
        "colab": {
          "base_uri": "https://localhost:8080/",
          "height": 669
        },
        "id": "PiCKjFfB-2s2",
        "outputId": "e9a9fc97-de78-4fac-fec7-63bd99d4d336"
      },
      "source": [
        "pd.DataFrame(gs_svc_tfidf.cv_results_).loc[:,[\"param_C\",\t\"param_gamma\", \"param_kernel\", \"params\", \"mean_test_score\", \"std_test_score\"]].sort_values(by = [\"mean_test_score\"], ascending=False)"
      ],
      "execution_count": null,
      "outputs": [
        {
          "output_type": "execute_result",
          "data": {
            "text/html": [
              "<div>\n",
              "<style scoped>\n",
              "    .dataframe tbody tr th:only-of-type {\n",
              "        vertical-align: middle;\n",
              "    }\n",
              "\n",
              "    .dataframe tbody tr th {\n",
              "        vertical-align: top;\n",
              "    }\n",
              "\n",
              "    .dataframe thead th {\n",
              "        text-align: right;\n",
              "    }\n",
              "</style>\n",
              "<table border=\"1\" class=\"dataframe\">\n",
              "  <thead>\n",
              "    <tr style=\"text-align: right;\">\n",
              "      <th></th>\n",
              "      <th>param_C</th>\n",
              "      <th>param_gamma</th>\n",
              "      <th>param_kernel</th>\n",
              "      <th>params</th>\n",
              "      <th>mean_test_score</th>\n",
              "      <th>std_test_score</th>\n",
              "    </tr>\n",
              "  </thead>\n",
              "  <tbody>\n",
              "    <tr>\n",
              "      <th>12</th>\n",
              "      <td>10</td>\n",
              "      <td>scale</td>\n",
              "      <td>linear</td>\n",
              "      <td>{'C': 10, 'gamma': 'scale', 'kernel': 'linear'}</td>\n",
              "      <td>0.981630</td>\n",
              "      <td>0.005136</td>\n",
              "    </tr>\n",
              "    <tr>\n",
              "      <th>14</th>\n",
              "      <td>10</td>\n",
              "      <td>auto</td>\n",
              "      <td>linear</td>\n",
              "      <td>{'C': 10, 'gamma': 'auto', 'kernel': 'linear'}</td>\n",
              "      <td>0.981630</td>\n",
              "      <td>0.005136</td>\n",
              "    </tr>\n",
              "    <tr>\n",
              "      <th>18</th>\n",
              "      <td>100</td>\n",
              "      <td>auto</td>\n",
              "      <td>linear</td>\n",
              "      <td>{'C': 100, 'gamma': 'auto', 'kernel': 'linear'}</td>\n",
              "      <td>0.981371</td>\n",
              "      <td>0.005277</td>\n",
              "    </tr>\n",
              "    <tr>\n",
              "      <th>16</th>\n",
              "      <td>100</td>\n",
              "      <td>scale</td>\n",
              "      <td>linear</td>\n",
              "      <td>{'C': 100, 'gamma': 'scale', 'kernel': 'linear'}</td>\n",
              "      <td>0.981371</td>\n",
              "      <td>0.005277</td>\n",
              "    </tr>\n",
              "    <tr>\n",
              "      <th>10</th>\n",
              "      <td>1</td>\n",
              "      <td>auto</td>\n",
              "      <td>linear</td>\n",
              "      <td>{'C': 1, 'gamma': 'auto', 'kernel': 'linear'}</td>\n",
              "      <td>0.980595</td>\n",
              "      <td>0.004406</td>\n",
              "    </tr>\n",
              "    <tr>\n",
              "      <th>8</th>\n",
              "      <td>1</td>\n",
              "      <td>scale</td>\n",
              "      <td>linear</td>\n",
              "      <td>{'C': 1, 'gamma': 'scale', 'kernel': 'linear'}</td>\n",
              "      <td>0.980595</td>\n",
              "      <td>0.004406</td>\n",
              "    </tr>\n",
              "    <tr>\n",
              "      <th>17</th>\n",
              "      <td>100</td>\n",
              "      <td>scale</td>\n",
              "      <td>rbf</td>\n",
              "      <td>{'C': 100, 'gamma': 'scale', 'kernel': 'rbf'}</td>\n",
              "      <td>0.976455</td>\n",
              "      <td>0.005136</td>\n",
              "    </tr>\n",
              "    <tr>\n",
              "      <th>13</th>\n",
              "      <td>10</td>\n",
              "      <td>scale</td>\n",
              "      <td>rbf</td>\n",
              "      <td>{'C': 10, 'gamma': 'scale', 'kernel': 'rbf'}</td>\n",
              "      <td>0.976455</td>\n",
              "      <td>0.005136</td>\n",
              "    </tr>\n",
              "    <tr>\n",
              "      <th>9</th>\n",
              "      <td>1</td>\n",
              "      <td>scale</td>\n",
              "      <td>rbf</td>\n",
              "      <td>{'C': 1, 'gamma': 'scale', 'kernel': 'rbf'}</td>\n",
              "      <td>0.972574</td>\n",
              "      <td>0.006090</td>\n",
              "    </tr>\n",
              "    <tr>\n",
              "      <th>4</th>\n",
              "      <td>0.1</td>\n",
              "      <td>scale</td>\n",
              "      <td>linear</td>\n",
              "      <td>{'C': 0.1, 'gamma': 'scale', 'kernel': 'linear'}</td>\n",
              "      <td>0.904787</td>\n",
              "      <td>0.002535</td>\n",
              "    </tr>\n",
              "    <tr>\n",
              "      <th>6</th>\n",
              "      <td>0.1</td>\n",
              "      <td>auto</td>\n",
              "      <td>linear</td>\n",
              "      <td>{'C': 0.1, 'gamma': 'auto', 'kernel': 'linear'}</td>\n",
              "      <td>0.904787</td>\n",
              "      <td>0.002535</td>\n",
              "    </tr>\n",
              "    <tr>\n",
              "      <th>15</th>\n",
              "      <td>10</td>\n",
              "      <td>auto</td>\n",
              "      <td>rbf</td>\n",
              "      <td>{'C': 10, 'gamma': 'auto', 'kernel': 'rbf'}</td>\n",
              "      <td>0.865718</td>\n",
              "      <td>0.000517</td>\n",
              "    </tr>\n",
              "    <tr>\n",
              "      <th>0</th>\n",
              "      <td>0.01</td>\n",
              "      <td>scale</td>\n",
              "      <td>linear</td>\n",
              "      <td>{'C': 0.01, 'gamma': 'scale', 'kernel': 'linear'}</td>\n",
              "      <td>0.865718</td>\n",
              "      <td>0.000517</td>\n",
              "    </tr>\n",
              "    <tr>\n",
              "      <th>11</th>\n",
              "      <td>1</td>\n",
              "      <td>auto</td>\n",
              "      <td>rbf</td>\n",
              "      <td>{'C': 1, 'gamma': 'auto', 'kernel': 'rbf'}</td>\n",
              "      <td>0.865718</td>\n",
              "      <td>0.000517</td>\n",
              "    </tr>\n",
              "    <tr>\n",
              "      <th>1</th>\n",
              "      <td>0.01</td>\n",
              "      <td>scale</td>\n",
              "      <td>rbf</td>\n",
              "      <td>{'C': 0.01, 'gamma': 'scale', 'kernel': 'rbf'}</td>\n",
              "      <td>0.865718</td>\n",
              "      <td>0.000517</td>\n",
              "    </tr>\n",
              "    <tr>\n",
              "      <th>7</th>\n",
              "      <td>0.1</td>\n",
              "      <td>auto</td>\n",
              "      <td>rbf</td>\n",
              "      <td>{'C': 0.1, 'gamma': 'auto', 'kernel': 'rbf'}</td>\n",
              "      <td>0.865718</td>\n",
              "      <td>0.000517</td>\n",
              "    </tr>\n",
              "    <tr>\n",
              "      <th>5</th>\n",
              "      <td>0.1</td>\n",
              "      <td>scale</td>\n",
              "      <td>rbf</td>\n",
              "      <td>{'C': 0.1, 'gamma': 'scale', 'kernel': 'rbf'}</td>\n",
              "      <td>0.865718</td>\n",
              "      <td>0.000517</td>\n",
              "    </tr>\n",
              "    <tr>\n",
              "      <th>3</th>\n",
              "      <td>0.01</td>\n",
              "      <td>auto</td>\n",
              "      <td>rbf</td>\n",
              "      <td>{'C': 0.01, 'gamma': 'auto', 'kernel': 'rbf'}</td>\n",
              "      <td>0.865718</td>\n",
              "      <td>0.000517</td>\n",
              "    </tr>\n",
              "    <tr>\n",
              "      <th>2</th>\n",
              "      <td>0.01</td>\n",
              "      <td>auto</td>\n",
              "      <td>linear</td>\n",
              "      <td>{'C': 0.01, 'gamma': 'auto', 'kernel': 'linear'}</td>\n",
              "      <td>0.865718</td>\n",
              "      <td>0.000517</td>\n",
              "    </tr>\n",
              "    <tr>\n",
              "      <th>19</th>\n",
              "      <td>100</td>\n",
              "      <td>auto</td>\n",
              "      <td>rbf</td>\n",
              "      <td>{'C': 100, 'gamma': 'auto', 'kernel': 'rbf'}</td>\n",
              "      <td>0.865718</td>\n",
              "      <td>0.000517</td>\n",
              "    </tr>\n",
              "  </tbody>\n",
              "</table>\n",
              "</div>"
            ],
            "text/plain": [
              "   param_C param_gamma  ... mean_test_score std_test_score\n",
              "12      10       scale  ...        0.981630       0.005136\n",
              "14      10        auto  ...        0.981630       0.005136\n",
              "18     100        auto  ...        0.981371       0.005277\n",
              "16     100       scale  ...        0.981371       0.005277\n",
              "10       1        auto  ...        0.980595       0.004406\n",
              "8        1       scale  ...        0.980595       0.004406\n",
              "17     100       scale  ...        0.976455       0.005136\n",
              "13      10       scale  ...        0.976455       0.005136\n",
              "9        1       scale  ...        0.972574       0.006090\n",
              "4      0.1       scale  ...        0.904787       0.002535\n",
              "6      0.1        auto  ...        0.904787       0.002535\n",
              "15      10        auto  ...        0.865718       0.000517\n",
              "0     0.01       scale  ...        0.865718       0.000517\n",
              "11       1        auto  ...        0.865718       0.000517\n",
              "1     0.01       scale  ...        0.865718       0.000517\n",
              "7      0.1        auto  ...        0.865718       0.000517\n",
              "5      0.1       scale  ...        0.865718       0.000517\n",
              "3     0.01        auto  ...        0.865718       0.000517\n",
              "2     0.01        auto  ...        0.865718       0.000517\n",
              "19     100        auto  ...        0.865718       0.000517\n",
              "\n",
              "[20 rows x 6 columns]"
            ]
          },
          "metadata": {
            "tags": []
          },
          "execution_count": 110
        }
      ]
    },
    {
      "cell_type": "code",
      "metadata": {
        "colab": {
          "base_uri": "https://localhost:8080/"
        },
        "id": "4uJ6eobk_5YA",
        "outputId": "da827c62-a58e-4f56-9b5a-deb9c0d21dff"
      },
      "source": [
        "scores(\"SVC TfidfVectorizer\", gs_svc_tfidf, X_test_tfidf, y_test)"
      ],
      "execution_count": 27,
      "outputs": [
        {
          "output_type": "stream",
          "text": [
            " Scores SVC TfidfVectorizer\n",
            "        Accuracy: 0.9855159927579964\n",
            "        Precision: 0.9806763285024155\n",
            "        Recall: 0.9103139013452914\n"
          ],
          "name": "stdout"
        }
      ]
    },
    {
      "cell_type": "code",
      "metadata": {
        "colab": {
          "base_uri": "https://localhost:8080/"
        },
        "id": "riakV0-KMRj9",
        "outputId": "20809e57-90f8-4e15-dd84-68bc31bbb9aa"
      },
      "source": [
        "confusion_matrix(y_test, gs_svc_tfidf.predict(X_test_tfidf))"
      ],
      "execution_count": 28,
      "outputs": [
        {
          "output_type": "execute_result",
          "data": {
            "text/plain": [
              "array([[1430,    4],\n",
              "       [  20,  203]])"
            ]
          },
          "metadata": {
            "tags": []
          },
          "execution_count": 28
        }
      ]
    },
    {
      "cell_type": "markdown",
      "metadata": {
        "id": "finUYZp9Bio9"
      },
      "source": [
        "Al utilizar una matriz tfidf los resultados mejoran, pero sigue existiendo el problema de los 4 ham clasificados como spam. \n"
      ]
    },
    {
      "cell_type": "markdown",
      "metadata": {
        "id": "fMnum0JICEuu"
      },
      "source": [
        "### **Naives Bayes**"
      ]
    },
    {
      "cell_type": "markdown",
      "metadata": {
        "id": "AySXkdFXCRyg"
      },
      "source": [
        "Este algoritmo está basado en el teorema de Bayes y asume independencia entre todas las variables, lo cual no es verdad, pero aún asi ha demostrado dar buenos resultados a la hora de clasificar texto.\n",
        "\n",
        "Se divide en varios tipos en base a la distribución que utiliza. Para la clasificación de texto se suele utilizar la distribución Multinomial que está preparada para datos discretos (ej. número de ocurrencia de palabras), aunque en la práctica también funciona con matrices tf-idf así que voy a probar ambos casos."
      ]
    },
    {
      "cell_type": "code",
      "metadata": {
        "id": "4w0pBPcZB2n7"
      },
      "source": [
        "from sklearn.naive_bayes import MultinomialNB"
      ],
      "execution_count": 29,
      "outputs": []
    },
    {
      "cell_type": "markdown",
      "metadata": {
        "id": "lIFJVuW95NAG"
      },
      "source": [
        "### CV"
      ]
    },
    {
      "cell_type": "code",
      "metadata": {
        "id": "sjbrbepfGLMr"
      },
      "source": [
        "parameters = { 'alpha':[0.00001, 0.0001, 0.001, 0.01, 0.1, 1, 10], 'fit_prior':(True, False)}\n",
        "mnb = MultinomialNB()\n",
        "gs_mnb = GridSearchCV(mnb, parameters)\n",
        "gs_mnb_cv = gs_mnb.fit(X_train_cv, y_train)"
      ],
      "execution_count": 30,
      "outputs": []
    },
    {
      "cell_type": "code",
      "metadata": {
        "colab": {
          "base_uri": "https://localhost:8080/",
          "height": 483
        },
        "id": "Xi-pgZva771f",
        "outputId": "912bb38b-b034-410e-df1b-d48d850218c2"
      },
      "source": [
        "pd.DataFrame(gs_mnb_cv.cv_results_).loc[:, [\"params\", \"mean_test_score\", \"std_test_score\"]].sort_values(by=\"mean_test_score\", ascending=False)"
      ],
      "execution_count": null,
      "outputs": [
        {
          "output_type": "execute_result",
          "data": {
            "text/html": [
              "<div>\n",
              "<style scoped>\n",
              "    .dataframe tbody tr th:only-of-type {\n",
              "        vertical-align: middle;\n",
              "    }\n",
              "\n",
              "    .dataframe tbody tr th {\n",
              "        vertical-align: top;\n",
              "    }\n",
              "\n",
              "    .dataframe thead th {\n",
              "        text-align: right;\n",
              "    }\n",
              "</style>\n",
              "<table border=\"1\" class=\"dataframe\">\n",
              "  <thead>\n",
              "    <tr style=\"text-align: right;\">\n",
              "      <th></th>\n",
              "      <th>params</th>\n",
              "      <th>mean_test_score</th>\n",
              "      <th>std_test_score</th>\n",
              "    </tr>\n",
              "  </thead>\n",
              "  <tbody>\n",
              "    <tr>\n",
              "      <th>6</th>\n",
              "      <td>{'alpha': 0.01, 'fit_prior': True}</td>\n",
              "      <td>0.982406</td>\n",
              "      <td>0.004743</td>\n",
              "    </tr>\n",
              "    <tr>\n",
              "      <th>4</th>\n",
              "      <td>{'alpha': 0.001, 'fit_prior': True}</td>\n",
              "      <td>0.980854</td>\n",
              "      <td>0.005573</td>\n",
              "    </tr>\n",
              "    <tr>\n",
              "      <th>8</th>\n",
              "      <td>{'alpha': 0.1, 'fit_prior': True}</td>\n",
              "      <td>0.980854</td>\n",
              "      <td>0.006914</td>\n",
              "    </tr>\n",
              "    <tr>\n",
              "      <th>10</th>\n",
              "      <td>{'alpha': 1, 'fit_prior': True}</td>\n",
              "      <td>0.980854</td>\n",
              "      <td>0.004729</td>\n",
              "    </tr>\n",
              "    <tr>\n",
              "      <th>2</th>\n",
              "      <td>{'alpha': 0.0001, 'fit_prior': True}</td>\n",
              "      <td>0.980078</td>\n",
              "      <td>0.005277</td>\n",
              "    </tr>\n",
              "    <tr>\n",
              "      <th>0</th>\n",
              "      <td>{'alpha': 1e-05, 'fit_prior': True}</td>\n",
              "      <td>0.979560</td>\n",
              "      <td>0.005264</td>\n",
              "    </tr>\n",
              "    <tr>\n",
              "      <th>5</th>\n",
              "      <td>{'alpha': 0.001, 'fit_prior': False}</td>\n",
              "      <td>0.974386</td>\n",
              "      <td>0.004868</td>\n",
              "    </tr>\n",
              "    <tr>\n",
              "      <th>3</th>\n",
              "      <td>{'alpha': 0.0001, 'fit_prior': False}</td>\n",
              "      <td>0.973868</td>\n",
              "      <td>0.005136</td>\n",
              "    </tr>\n",
              "    <tr>\n",
              "      <th>7</th>\n",
              "      <td>{'alpha': 0.01, 'fit_prior': False}</td>\n",
              "      <td>0.973868</td>\n",
              "      <td>0.006359</td>\n",
              "    </tr>\n",
              "    <tr>\n",
              "      <th>1</th>\n",
              "      <td>{'alpha': 1e-05, 'fit_prior': False}</td>\n",
              "      <td>0.973092</td>\n",
              "      <td>0.004729</td>\n",
              "    </tr>\n",
              "    <tr>\n",
              "      <th>9</th>\n",
              "      <td>{'alpha': 0.1, 'fit_prior': False}</td>\n",
              "      <td>0.967141</td>\n",
              "      <td>0.006777</td>\n",
              "    </tr>\n",
              "    <tr>\n",
              "      <th>11</th>\n",
              "      <td>{'alpha': 1, 'fit_prior': False}</td>\n",
              "      <td>0.964036</td>\n",
              "      <td>0.008075</td>\n",
              "    </tr>\n",
              "    <tr>\n",
              "      <th>13</th>\n",
              "      <td>{'alpha': 10, 'fit_prior': False}</td>\n",
              "      <td>0.952135</td>\n",
              "      <td>0.004091</td>\n",
              "    </tr>\n",
              "    <tr>\n",
              "      <th>12</th>\n",
              "      <td>{'alpha': 10, 'fit_prior': True}</td>\n",
              "      <td>0.950323</td>\n",
              "      <td>0.004526</td>\n",
              "    </tr>\n",
              "  </tbody>\n",
              "</table>\n",
              "</div>"
            ],
            "text/plain": [
              "                                   params  mean_test_score  std_test_score\n",
              "6      {'alpha': 0.01, 'fit_prior': True}         0.982406        0.004743\n",
              "4     {'alpha': 0.001, 'fit_prior': True}         0.980854        0.005573\n",
              "8       {'alpha': 0.1, 'fit_prior': True}         0.980854        0.006914\n",
              "10        {'alpha': 1, 'fit_prior': True}         0.980854        0.004729\n",
              "2    {'alpha': 0.0001, 'fit_prior': True}         0.980078        0.005277\n",
              "0     {'alpha': 1e-05, 'fit_prior': True}         0.979560        0.005264\n",
              "5    {'alpha': 0.001, 'fit_prior': False}         0.974386        0.004868\n",
              "3   {'alpha': 0.0001, 'fit_prior': False}         0.973868        0.005136\n",
              "7     {'alpha': 0.01, 'fit_prior': False}         0.973868        0.006359\n",
              "1    {'alpha': 1e-05, 'fit_prior': False}         0.973092        0.004729\n",
              "9      {'alpha': 0.1, 'fit_prior': False}         0.967141        0.006777\n",
              "11       {'alpha': 1, 'fit_prior': False}         0.964036        0.008075\n",
              "13      {'alpha': 10, 'fit_prior': False}         0.952135        0.004091\n",
              "12       {'alpha': 10, 'fit_prior': True}         0.950323        0.004526"
            ]
          },
          "metadata": {
            "tags": []
          },
          "execution_count": 98
        }
      ]
    },
    {
      "cell_type": "code",
      "metadata": {
        "colab": {
          "base_uri": "https://localhost:8080/"
        },
        "id": "f6VLCmCeGLTu",
        "outputId": "f2f13b63-1f7e-4a8f-ffe8-c87ca18aa5d0"
      },
      "source": [
        "scores(\"GNB CountVectorizer\", gs_mnb_cv, X_test_cv.toarray(), y_test)"
      ],
      "execution_count": 31,
      "outputs": [
        {
          "output_type": "stream",
          "text": [
            " Scores GNB CountVectorizer\n",
            "        Accuracy: 0.9843089921544961\n",
            "        Precision: 0.9457013574660633\n",
            "        Recall: 0.9372197309417041\n"
          ],
          "name": "stdout"
        }
      ]
    },
    {
      "cell_type": "code",
      "metadata": {
        "colab": {
          "base_uri": "https://localhost:8080/"
        },
        "id": "Y-_85uZtMdb6",
        "outputId": "e7c32903-c5e4-4855-b81a-66625c391c1f"
      },
      "source": [
        "confusion_matrix(y_test, gs_mnb_cv.predict(X_test_cv.toarray()))"
      ],
      "execution_count": 32,
      "outputs": [
        {
          "output_type": "execute_result",
          "data": {
            "text/plain": [
              "array([[1422,   12],\n",
              "       [  14,  209]])"
            ]
          },
          "metadata": {
            "tags": []
          },
          "execution_count": 32
        }
      ]
    },
    {
      "cell_type": "markdown",
      "metadata": {
        "id": "mjyR0E0fHmnc"
      },
      "source": [
        "Los resultados del GNB usando una matriz tf son un poco peores, a pesar de lidiar mejor con los falsos negativos (spam clasificado como ham), comete bastantes errores con respecto a los falsos positivos, lo cual no interesa ya que este tipo de errores tienen peores consecuencias que los anteriores."
      ]
    },
    {
      "cell_type": "markdown",
      "metadata": {
        "id": "4PLS-8fx5S22"
      },
      "source": [
        "### Tfidf"
      ]
    },
    {
      "cell_type": "code",
      "metadata": {
        "id": "Qg4kIyYY5CDy"
      },
      "source": [
        "gs_mnb_tfidf = gs_mnb.fit(X_train_tfidf.toarray(), y_train)"
      ],
      "execution_count": 33,
      "outputs": []
    },
    {
      "cell_type": "code",
      "metadata": {
        "colab": {
          "base_uri": "https://localhost:8080/",
          "height": 483
        },
        "id": "xgpP3LiT-mIj",
        "outputId": "7fc71ef5-e19a-4d10-8b92-3ef8eaba0a85"
      },
      "source": [
        "pd.DataFrame(gs_mnb_tfidf.cv_results_).loc[:, [\"params\", \"mean_test_score\", \"std_test_score\"]].sort_values(by=\"mean_test_score\", ascending=False)"
      ],
      "execution_count": 34,
      "outputs": [
        {
          "output_type": "execute_result",
          "data": {
            "text/html": [
              "<div>\n",
              "<style scoped>\n",
              "    .dataframe tbody tr th:only-of-type {\n",
              "        vertical-align: middle;\n",
              "    }\n",
              "\n",
              "    .dataframe tbody tr th {\n",
              "        vertical-align: top;\n",
              "    }\n",
              "\n",
              "    .dataframe thead th {\n",
              "        text-align: right;\n",
              "    }\n",
              "</style>\n",
              "<table border=\"1\" class=\"dataframe\">\n",
              "  <thead>\n",
              "    <tr style=\"text-align: right;\">\n",
              "      <th></th>\n",
              "      <th>params</th>\n",
              "      <th>mean_test_score</th>\n",
              "      <th>std_test_score</th>\n",
              "    </tr>\n",
              "  </thead>\n",
              "  <tbody>\n",
              "    <tr>\n",
              "      <th>6</th>\n",
              "      <td>{'alpha': 0.01, 'fit_prior': True}</td>\n",
              "      <td>0.983700</td>\n",
              "      <td>0.005525</td>\n",
              "    </tr>\n",
              "    <tr>\n",
              "      <th>8</th>\n",
              "      <td>{'alpha': 0.1, 'fit_prior': True}</td>\n",
              "      <td>0.983441</td>\n",
              "      <td>0.004799</td>\n",
              "    </tr>\n",
              "    <tr>\n",
              "      <th>4</th>\n",
              "      <td>{'alpha': 0.001, 'fit_prior': True}</td>\n",
              "      <td>0.982147</td>\n",
              "      <td>0.006090</td>\n",
              "    </tr>\n",
              "    <tr>\n",
              "      <th>2</th>\n",
              "      <td>{'alpha': 0.0001, 'fit_prior': True}</td>\n",
              "      <td>0.981371</td>\n",
              "      <td>0.005704</td>\n",
              "    </tr>\n",
              "    <tr>\n",
              "      <th>0</th>\n",
              "      <td>{'alpha': 1e-05, 'fit_prior': True}</td>\n",
              "      <td>0.980595</td>\n",
              "      <td>0.006068</td>\n",
              "    </tr>\n",
              "    <tr>\n",
              "      <th>11</th>\n",
              "      <td>{'alpha': 1, 'fit_prior': False}</td>\n",
              "      <td>0.964036</td>\n",
              "      <td>0.008636</td>\n",
              "    </tr>\n",
              "    <tr>\n",
              "      <th>1</th>\n",
              "      <td>{'alpha': 1e-05, 'fit_prior': False}</td>\n",
              "      <td>0.963001</td>\n",
              "      <td>0.006155</td>\n",
              "    </tr>\n",
              "    <tr>\n",
              "      <th>3</th>\n",
              "      <td>{'alpha': 0.0001, 'fit_prior': False}</td>\n",
              "      <td>0.963001</td>\n",
              "      <td>0.007345</td>\n",
              "    </tr>\n",
              "    <tr>\n",
              "      <th>5</th>\n",
              "      <td>{'alpha': 0.001, 'fit_prior': False}</td>\n",
              "      <td>0.960673</td>\n",
              "      <td>0.008720</td>\n",
              "    </tr>\n",
              "    <tr>\n",
              "      <th>7</th>\n",
              "      <td>{'alpha': 0.01, 'fit_prior': False}</td>\n",
              "      <td>0.955757</td>\n",
              "      <td>0.005809</td>\n",
              "    </tr>\n",
              "    <tr>\n",
              "      <th>10</th>\n",
              "      <td>{'alpha': 1, 'fit_prior': True}</td>\n",
              "      <td>0.953946</td>\n",
              "      <td>0.001936</td>\n",
              "    </tr>\n",
              "    <tr>\n",
              "      <th>9</th>\n",
              "      <td>{'alpha': 0.1, 'fit_prior': False}</td>\n",
              "      <td>0.943596</td>\n",
              "      <td>0.006369</td>\n",
              "    </tr>\n",
              "    <tr>\n",
              "      <th>13</th>\n",
              "      <td>{'alpha': 10, 'fit_prior': False}</td>\n",
              "      <td>0.925485</td>\n",
              "      <td>0.006263</td>\n",
              "    </tr>\n",
              "    <tr>\n",
              "      <th>12</th>\n",
              "      <td>{'alpha': 10, 'fit_prior': True}</td>\n",
              "      <td>0.865718</td>\n",
              "      <td>0.000517</td>\n",
              "    </tr>\n",
              "  </tbody>\n",
              "</table>\n",
              "</div>"
            ],
            "text/plain": [
              "                                   params  mean_test_score  std_test_score\n",
              "6      {'alpha': 0.01, 'fit_prior': True}         0.983700        0.005525\n",
              "8       {'alpha': 0.1, 'fit_prior': True}         0.983441        0.004799\n",
              "4     {'alpha': 0.001, 'fit_prior': True}         0.982147        0.006090\n",
              "2    {'alpha': 0.0001, 'fit_prior': True}         0.981371        0.005704\n",
              "0     {'alpha': 1e-05, 'fit_prior': True}         0.980595        0.006068\n",
              "11       {'alpha': 1, 'fit_prior': False}         0.964036        0.008636\n",
              "1    {'alpha': 1e-05, 'fit_prior': False}         0.963001        0.006155\n",
              "3   {'alpha': 0.0001, 'fit_prior': False}         0.963001        0.007345\n",
              "5    {'alpha': 0.001, 'fit_prior': False}         0.960673        0.008720\n",
              "7     {'alpha': 0.01, 'fit_prior': False}         0.955757        0.005809\n",
              "10        {'alpha': 1, 'fit_prior': True}         0.953946        0.001936\n",
              "9      {'alpha': 0.1, 'fit_prior': False}         0.943596        0.006369\n",
              "13      {'alpha': 10, 'fit_prior': False}         0.925485        0.006263\n",
              "12       {'alpha': 10, 'fit_prior': True}         0.865718        0.000517"
            ]
          },
          "metadata": {
            "tags": []
          },
          "execution_count": 34
        }
      ]
    },
    {
      "cell_type": "code",
      "metadata": {
        "colab": {
          "base_uri": "https://localhost:8080/"
        },
        "id": "b301Q0WPHfVA",
        "outputId": "672af6e5-a984-4aab-c621-ec2fe211ec90"
      },
      "source": [
        "scores(\"MNB TfidfVectorizer\", gs_mnb_tfidf, X_test_tfidf.toarray(), y_test)"
      ],
      "execution_count": 35,
      "outputs": [
        {
          "output_type": "stream",
          "text": [
            " Scores GNB TfidfVectorizer\n",
            "        Accuracy: 0.9861194930597466\n",
            "        Precision: 0.9716981132075472\n",
            "        Recall: 0.9237668161434978\n"
          ],
          "name": "stdout"
        }
      ]
    },
    {
      "cell_type": "code",
      "metadata": {
        "colab": {
          "base_uri": "https://localhost:8080/"
        },
        "id": "ZskgjgDpMhV8",
        "outputId": "ae66758d-75a1-4d51-d9f8-52628eb454fe"
      },
      "source": [
        "confusion_matrix(y_test, gs_mnb_tfidf.predict(X_test_tfidf.toarray()))"
      ],
      "execution_count": 36,
      "outputs": [
        {
          "output_type": "execute_result",
          "data": {
            "text/plain": [
              "array([[1428,    6],\n",
              "       [  17,  206]])"
            ]
          },
          "metadata": {
            "tags": []
          },
          "execution_count": 36
        }
      ]
    },
    {
      "cell_type": "code",
      "metadata": {
        "colab": {
          "base_uri": "https://localhost:8080/"
        },
        "id": "VQXXwO-f6a7V",
        "outputId": "47871aa9-e782-48f5-eba3-9cdf120b4937"
      },
      "source": [
        "x = gs_mnb_tfidf.best_estimator_\n",
        "type(x) == MultinomialNB"
      ],
      "execution_count": 37,
      "outputs": [
        {
          "output_type": "execute_result",
          "data": {
            "text/plain": [
              "True"
            ]
          },
          "metadata": {
            "tags": []
          },
          "execution_count": 37
        }
      ]
    },
    {
      "cell_type": "markdown",
      "metadata": {
        "id": "qOzBPTLfIdY-"
      },
      "source": [
        "Observo que al utilizar la matriz tfidf obtengo el accuracy más alto hasta el momento, pero clasifica 6 hams como spam."
      ]
    },
    {
      "cell_type": "markdown",
      "metadata": {
        "id": "waUqlg4r4s76"
      },
      "source": [
        "### **Ensemble**\n",
        "\n",
        "Ahoa tengo dos modelos con más del 98.5% de precisión. Voy a combinaros para intentar crear un modelo más"
      ]
    },
    {
      "cell_type": "code",
      "metadata": {
        "id": "GmEdapdR5A7Y"
      },
      "source": [
        "class Ensemble():\n",
        "  def __init__(self, models):\n",
        "    self.models = models\n",
        "  def predict(self, x):\n",
        "    '''Crea un array de predicciones por modelo'''\n",
        "    return [model.predict(x) if type(model.best_estimator_) != MultinomialNB else model.predict(x.toarray()) for model in self.models]"
      ],
      "execution_count": 38,
      "outputs": []
    },
    {
      "cell_type": "code",
      "metadata": {
        "id": "kUA1V4OL5A_J"
      },
      "source": [
        "e = Ensemble([gs_svc_tfidf, gs_mnb_tfidf])"
      ],
      "execution_count": 39,
      "outputs": []
    },
    {
      "cell_type": "code",
      "metadata": {
        "colab": {
          "base_uri": "https://localhost:8080/"
        },
        "id": "rleB3MPB5BDW",
        "outputId": "0373bd7b-ebfd-472e-b6a2-219f0475836c"
      },
      "source": [
        "np.mean(e.predict(X_test_tfidf)[0] == e.predict(X_test_tfidf)[1])"
      ],
      "execution_count": 40,
      "outputs": [
        {
          "output_type": "execute_result",
          "data": {
            "text/plain": [
              "0.9873264936632469"
            ]
          },
          "metadata": {
            "tags": []
          },
          "execution_count": 40
        }
      ]
    },
    {
      "cell_type": "code",
      "metadata": {
        "id": "CUV7FEDB5BHi"
      },
      "source": [
        "#Voy a predecir spam solo si ambos modelos lo hacen.\n",
        "e_pred = (e.predict(X_test_tfidf)[0] + e.predict(X_test_tfidf)[1] == 2).astype(\"int\")"
      ],
      "execution_count": 41,
      "outputs": []
    },
    {
      "cell_type": "code",
      "metadata": {
        "colab": {
          "base_uri": "https://localhost:8080/"
        },
        "id": "lHQ8qVtL9K6o",
        "outputId": "ca8a2116-8755-46c6-e9a5-d65a7a2b513b"
      },
      "source": [
        "print(\"Accuracy: \", np.mean(y_test == e_pred))"
      ],
      "execution_count": 42,
      "outputs": [
        {
          "output_type": "stream",
          "text": [
            "Accuracy:  0.9855159927579964\n"
          ],
          "name": "stdout"
        }
      ]
    },
    {
      "cell_type": "code",
      "metadata": {
        "colab": {
          "base_uri": "https://localhost:8080/"
        },
        "id": "ZwPdR9HE9CMa",
        "outputId": "081de008-c69d-4f74-bb49-26e6871a9f19"
      },
      "source": [
        "confusion_matrix(y_test, e_pred)"
      ],
      "execution_count": 43,
      "outputs": [
        {
          "output_type": "execute_result",
          "data": {
            "text/plain": [
              "array([[1434,    0],\n",
              "       [  24,  199]])"
            ]
          },
          "metadata": {
            "tags": []
          },
          "execution_count": 43
        }
      ]
    },
    {
      "cell_type": "markdown",
      "metadata": {
        "id": "vOXY4tpw9jgn"
      },
      "source": [
        "Este parece ser **el mejor modelo hasta el momento**, alcanza una precisión del 98.55% sin confundir ningún ham como spam, además, por la forma en la que está construido es más difícil que cometa este tipo de errores."
      ]
    },
    {
      "cell_type": "markdown",
      "metadata": {
        "id": "hmP_uf0z-Uf0"
      },
      "source": [
        "Voy a revisar los resultados con los datos de entrenamiento."
      ]
    },
    {
      "cell_type": "code",
      "metadata": {
        "id": "wIQsV2fa-D1M"
      },
      "source": [
        "e_pred = (e.predict(X_train_tfidf)[0] + e.predict(X_train_tfidf)[1] == 2).astype(\"int\")"
      ],
      "execution_count": 44,
      "outputs": []
    },
    {
      "cell_type": "code",
      "metadata": {
        "colab": {
          "base_uri": "https://localhost:8080/"
        },
        "id": "tSDOAFy9-IyZ",
        "outputId": "a094d711-7941-4237-b0af-45aa53605ed5"
      },
      "source": [
        "np.mean(e_pred == y_train)"
      ],
      "execution_count": 45,
      "outputs": [
        {
          "output_type": "execute_result",
          "data": {
            "text/plain": [
              "0.9989650711513584"
            ]
          },
          "metadata": {
            "tags": []
          },
          "execution_count": 45
        }
      ]
    },
    {
      "cell_type": "code",
      "metadata": {
        "colab": {
          "base_uri": "https://localhost:8080/"
        },
        "id": "EKKOG75W-PVW",
        "outputId": "9ec70082-03a2-4e60-be3e-50ea9800f10a"
      },
      "source": [
        "confusion_matrix(y_train, e_pred)"
      ],
      "execution_count": 46,
      "outputs": [
        {
          "output_type": "execute_result",
          "data": {
            "text/plain": [
              "array([[3346,    0],\n",
              "       [   4,  515]])"
            ]
          },
          "metadata": {
            "tags": []
          },
          "execution_count": 46
        }
      ]
    },
    {
      "cell_type": "markdown",
      "metadata": {
        "id": "3dejeEPNLVr-"
      },
      "source": [
        "### **Redes profundas**"
      ]
    },
    {
      "cell_type": "code",
      "metadata": {
        "colab": {
          "base_uri": "https://localhost:8080/"
        },
        "id": "rSJUja4KPZSI",
        "outputId": "2cb699c2-f792-4b58-ec22-bfb539b9b3e9"
      },
      "source": [
        "!pip install -Uqq fastbook\n",
        "import fastbook\n",
        "fastbook.setup_book();"
      ],
      "execution_count": 47,
      "outputs": [
        {
          "output_type": "stream",
          "text": [
            "\u001b[K     |████████████████████████████████| 727kB 38.7MB/s \n",
            "\u001b[K     |████████████████████████████████| 51kB 8.0MB/s \n",
            "\u001b[K     |████████████████████████████████| 1.2MB 41.4MB/s \n",
            "\u001b[K     |████████████████████████████████| 204kB 52.8MB/s \n",
            "\u001b[K     |████████████████████████████████| 61kB 9.3MB/s \n",
            "\u001b[K     |████████████████████████████████| 51kB 8.7MB/s \n",
            "\u001b[?25hMounted at /content/gdrive\n"
          ],
          "name": "stdout"
        }
      ]
    },
    {
      "cell_type": "code",
      "metadata": {
        "id": "2Jn-y3RYLkem"
      },
      "source": [
        "from fastai import *\n",
        "from fastai.text.all import *"
      ],
      "execution_count": 48,
      "outputs": []
    },
    {
      "cell_type": "code",
      "metadata": {
        "colab": {
          "base_uri": "https://localhost:8080/",
          "height": 204
        },
        "id": "qQ-ZCbu9Oo9k",
        "outputId": "f5bb992b-b050-4b8c-fa8d-41036823e85a"
      },
      "source": [
        "train.head()"
      ],
      "execution_count": 49,
      "outputs": [
        {
          "output_type": "execute_result",
          "data": {
            "text/html": [
              "<div>\n",
              "<style scoped>\n",
              "    .dataframe tbody tr th:only-of-type {\n",
              "        vertical-align: middle;\n",
              "    }\n",
              "\n",
              "    .dataframe tbody tr th {\n",
              "        vertical-align: top;\n",
              "    }\n",
              "\n",
              "    .dataframe thead th {\n",
              "        text-align: right;\n",
              "    }\n",
              "</style>\n",
              "<table border=\"1\" class=\"dataframe\">\n",
              "  <thead>\n",
              "    <tr style=\"text-align: right;\">\n",
              "      <th></th>\n",
              "      <th>target</th>\n",
              "      <th>text</th>\n",
              "    </tr>\n",
              "  </thead>\n",
              "  <tbody>\n",
              "    <tr>\n",
              "      <th>2518</th>\n",
              "      <td>0</td>\n",
              "      <td>Joy's father is John. Then John is the NAME of Joy's father. Mandan</td>\n",
              "    </tr>\n",
              "    <tr>\n",
              "      <th>3159</th>\n",
              "      <td>0</td>\n",
              "      <td>How much did ur hdd casing cost.</td>\n",
              "    </tr>\n",
              "    <tr>\n",
              "      <th>4727</th>\n",
              "      <td>0</td>\n",
              "      <td>I (Career Tel) have added u as a contact on INDYAROCKS.COM to send FREE SMS. To remove from phonebook - sms NO to  &amp;lt;#&amp;gt;</td>\n",
              "    </tr>\n",
              "    <tr>\n",
              "      <th>4076</th>\n",
              "      <td>0</td>\n",
              "      <td>Hey sathya till now we dint meet not even a single time then how can i saw the situation sathya.</td>\n",
              "    </tr>\n",
              "    <tr>\n",
              "      <th>3195</th>\n",
              "      <td>0</td>\n",
              "      <td>I av a new number,  . Wil u only use this one,ta.</td>\n",
              "    </tr>\n",
              "  </tbody>\n",
              "</table>\n",
              "</div>"
            ],
            "text/plain": [
              "      target  \\\n",
              "2518       0   \n",
              "3159       0   \n",
              "4727       0   \n",
              "4076       0   \n",
              "3195       0   \n",
              "\n",
              "                                                                                                                              text  \n",
              "2518                                                           Joy's father is John. Then John is the NAME of Joy's father. Mandan  \n",
              "3159                                                                                              How much did ur hdd casing cost.  \n",
              "4727  I (Career Tel) have added u as a contact on INDYAROCKS.COM to send FREE SMS. To remove from phonebook - sms NO to  &lt;#&gt;  \n",
              "4076                              Hey sathya till now we dint meet not even a single time then how can i saw the situation sathya.  \n",
              "3195                                                                             I av a new number,  . Wil u only use this one,ta.  "
            ]
          },
          "metadata": {
            "tags": []
          },
          "execution_count": 49
        }
      ]
    },
    {
      "cell_type": "markdown",
      "metadata": {
        "id": "Upt5eY2es4V3"
      },
      "source": [
        "Para comenzar hago un modelo de lenguaje de los datos. Esto realizará ciertas tareas de preprocesado de texto. \n",
        "\n",
        "La función de un modelo de lenguaje es predecir la siguiente palabra de un texto para lo que tiene que desarrollar un entendimiento del lenguaje, lo que será útil para mi objetivo posterior de clasificar texto.\n",
        "\n",
        "Para ello creo un DataBlock (que es una clase particular de fastai) indicando que se trata de bloques de texto, como conseguir la x y que divida los datos con un criterio similar al que usé para los algoritmos anteriores.\n",
        "Luego creo el DataLoaders a partir de este DataBlock."
      ]
    },
    {
      "cell_type": "code",
      "metadata": {
        "colab": {
          "base_uri": "https://localhost:8080/",
          "height": 71
        },
        "id": "MO2eDhXZeFiz",
        "outputId": "65a0d8a3-0a76-4731-f968-6201bcfd6155"
      },
      "source": [
        "dls_lm = DataBlock(\n",
        "    blocks=TextBlock.from_df(\"text\", is_lm=True),\n",
        "    get_x=ColReader('text'), splitter=TrainTestSplitter(test_size=0.3, random_state=123, stratify=df[\"target\"])).dataloaders(df, bs=64)    "
      ],
      "execution_count": 50,
      "outputs": [
        {
          "output_type": "display_data",
          "data": {
            "text/html": [
              ""
            ],
            "text/plain": [
              "<IPython.core.display.HTML object>"
            ]
          },
          "metadata": {
            "tags": []
          }
        },
        {
          "output_type": "stream",
          "text": [
            "/usr/local/lib/python3.7/dist-packages/numpy/core/_asarray.py:83: VisibleDeprecationWarning: Creating an ndarray from ragged nested sequences (which is a list-or-tuple of lists-or-tuples-or ndarrays with different lengths or shapes) is deprecated. If you meant to do this, you must specify 'dtype=object' when creating the ndarray\n",
            "  return array(a, dtype, copy=False, order=order)\n"
          ],
          "name": "stderr"
        }
      ]
    },
    {
      "cell_type": "markdown",
      "metadata": {
        "id": "P-sNf3ExppJi"
      },
      "source": [
        "El resultado es una variable dependiente y otra independiente. La independiente es similar a la dependiente pero comienza en una posición posterior y finaliza en una posición posterior. (ya que el objetivo del modelo de lenguaje es que aprenda a predecir la siguiente palabrar a partir de frase determinada).\n",
        "\n",
        "Además, el texto es tokenizado y se le aplican ciertas reglas de preprocesado, estas se aprecian en las palabras que empiezan por \"xx\". Por ejemplo xxbos hace referencia a que es el comienzo de una frase (beginning of string)."
      ]
    },
    {
      "cell_type": "code",
      "metadata": {
        "colab": {
          "base_uri": "https://localhost:8080/",
          "height": 504
        },
        "id": "XIF5EaOdjTDS",
        "outputId": "66d5f562-a6fa-42fa-a729-b0d3a2dcceb3"
      },
      "source": [
        "dls_lm.show_batch(max_n=7)"
      ],
      "execution_count": 51,
      "outputs": [
        {
          "output_type": "display_data",
          "data": {
            "text/html": [
              "<table border=\"1\" class=\"dataframe\">\n",
              "  <thead>\n",
              "    <tr style=\"text-align: right;\">\n",
              "      <th></th>\n",
              "      <th>text</th>\n",
              "      <th>text_</th>\n",
              "    </tr>\n",
              "  </thead>\n",
              "  <tbody>\n",
              "    <tr>\n",
              "      <th>0</th>\n",
              "      <td>xxbos xxmaj big xxunk really xxunk the xxunk with this shower of social xxunk xxbos xxmaj sorry , xxmaj i 'll call later xxbos xxmaj xxunk . xxmaj anytime . xxmaj all the best with it . xxbos xxmaj ok.ok ok .. then .. whats ur todays plan xxbos xxmaj spending new years with my brother and his family . xxmaj lets plan to meet next week . xxmaj are you ready</td>\n",
              "      <td>xxmaj big xxunk really xxunk the xxunk with this shower of social xxunk xxbos xxmaj sorry , xxmaj i 'll call later xxbos xxmaj xxunk . xxmaj anytime . xxmaj all the best with it . xxbos xxmaj ok.ok ok .. then .. whats ur todays plan xxbos xxmaj spending new years with my brother and his family . xxmaj lets plan to meet next week . xxmaj are you ready to</td>\n",
              "    </tr>\n",
              "    <tr>\n",
              "      <th>1</th>\n",
              "      <td>&lt; # &gt; bus xxbos xxmaj ok i msg u b4 i leave my house . xxbos xxmaj ok ok take care . i can understand . xxbos i dun thk i 'll quit yet … h xxrep 3 m , can go jazz ? xxmaj yogasana oso can … xxmaj we can go meet em after our lessons den … xxbos xxmaj hello my boytoy … g xxrep 4 e i</td>\n",
              "      <td># &gt; bus xxbos xxmaj ok i msg u b4 i leave my house . xxbos xxmaj ok ok take care . i can understand . xxbos i dun thk i 'll quit yet … h xxrep 3 m , can go jazz ? xxmaj yogasana oso can … xxmaj we can go meet em after our lessons den … xxbos xxmaj hello my boytoy … g xxrep 4 e i miss</td>\n",
              "    </tr>\n",
              "    <tr>\n",
              "      <th>2</th>\n",
              "      <td>do it when i texted . i finished a long time ago and xxunk and xxunk ! xxbos xxmaj i 'm going 2 orchard now xxunk me reaching soon . u reaching ? xxbos xxmaj yeah , in fact he just asked if we needed anything like an hour ago . xxmaj when and how much ? xxbos xxmaj small problem in xxunk now asking xxunk xxbos xxmaj babe ? xxmaj you</td>\n",
              "      <td>it when i texted . i finished a long time ago and xxunk and xxunk ! xxbos xxmaj i 'm going 2 orchard now xxunk me reaching soon . u reaching ? xxbos xxmaj yeah , in fact he just asked if we needed anything like an hour ago . xxmaj when and how much ? xxbos xxmaj small problem in xxunk now asking xxunk xxbos xxmaj babe ? xxmaj you said</td>\n",
              "    </tr>\n",
              "    <tr>\n",
              "      <th>3</th>\n",
              "      <td>y lei … xxbos xxmaj ok lor … xxmaj or u wan me go look 4 u ? xxbos xxmaj be sure to check your yahoo email . xxmaj we sent photos yesterday xxbos 1 ) xxmaj go to write msg 2 ) xxmaj put on xxmaj dictionary mode 3)cover the screen with hand , 4)press &lt; # &gt; . 5)gently remove xxmaj ur hand .. xxmaj its interesting .. : )</td>\n",
              "      <td>lei … xxbos xxmaj ok lor … xxmaj or u wan me go look 4 u ? xxbos xxmaj be sure to check your yahoo email . xxmaj we sent photos yesterday xxbos 1 ) xxmaj go to write msg 2 ) xxmaj put on xxmaj dictionary mode 3)cover the screen with hand , 4)press &lt; # &gt; . 5)gently remove xxmaj ur hand .. xxmaj its interesting .. : ) xxbos</td>\n",
              "    </tr>\n",
              "    <tr>\n",
              "      <th>4</th>\n",
              "      <td>. xxup its xxup been xxup longer xxup than a xxup week . xxbos xxmaj send a logo 2 ur lover - 2 names joined by a heart . xxmaj txt xxup love xxup xxunk xxup xxunk xxup xxunk eg xxup love xxup xxunk xxup eve xxunk to 87077 xxmaj yahoo ! pobox36504w45wq xxunk 4 no xxunk 150p . xxbos xxmaj then ca nt get da laptop ? xxmaj my xxunk card</td>\n",
              "      <td>xxup its xxup been xxup longer xxup than a xxup week . xxbos xxmaj send a logo 2 ur lover - 2 names joined by a heart . xxmaj txt xxup love xxup xxunk xxup xxunk xxup xxunk eg xxup love xxup xxunk xxup eve xxunk to 87077 xxmaj yahoo ! pobox36504w45wq xxunk 4 no xxunk 150p . xxbos xxmaj then ca nt get da laptop ? xxmaj my xxunk card wif</td>\n",
              "    </tr>\n",
              "    <tr>\n",
              "      <th>5</th>\n",
              "      <td>&gt; , kerala xxbos xxmaj we 're all getting worried over here , derek and taylor have already xxunk the xxunk xxbos xxmaj xxunk towards xxunk xxbos xxup babe xxrep 3 ! i m xxrep 7 i xxrep 10 s you ! i need you xxrep 3 ! i crave you xxrep 3 ! :-( … g xxrep 4 e … xxmaj i 'm so sad without you babe … i love</td>\n",
              "      <td>, kerala xxbos xxmaj we 're all getting worried over here , derek and taylor have already xxunk the xxunk xxbos xxmaj xxunk towards xxunk xxbos xxup babe xxrep 3 ! i m xxrep 7 i xxrep 10 s you ! i need you xxrep 3 ! i crave you xxrep 3 ! :-( … g xxrep 4 e … xxmaj i 'm so sad without you babe … i love you</td>\n",
              "    </tr>\n",
              "    <tr>\n",
              "      <th>6</th>\n",
              "      <td>xxmaj camera - xxmaj you are awarded a sipix xxmaj digital xxmaj camera ! call 09061221066 fromm landline . xxmaj delivery within 28 days . xxbos \\ xxmaj hi missed your xxmaj call and my xxunk xxunk red wine all over xxunk ! what is your xxunk ? \" \" xxbos xxmaj sorry . || mail ? || xxbos xxmaj new xxmaj theory : xxmaj argument wins d xxup situation , but</td>\n",
              "      <td>camera - xxmaj you are awarded a sipix xxmaj digital xxmaj camera ! call 09061221066 fromm landline . xxmaj delivery within 28 days . xxbos \\ xxmaj hi missed your xxmaj call and my xxunk xxunk red wine all over xxunk ! what is your xxunk ? \" \" xxbos xxmaj sorry . || mail ? || xxbos xxmaj new xxmaj theory : xxmaj argument wins d xxup situation , but loses</td>\n",
              "    </tr>\n",
              "  </tbody>\n",
              "</table>"
            ],
            "text/plain": [
              "<IPython.core.display.HTML object>"
            ]
          },
          "metadata": {
            "tags": []
          }
        }
      ]
    },
    {
      "cell_type": "markdown",
      "metadata": {
        "id": "FOlmYinomdez"
      },
      "source": [
        "Para crear este clasificador de texto voy a utilizar tranfer learning, que consiste en una téctica que utiliza un modelo que ya ha sido entrenado sobre unos datos para posteriormente entrenarlo sobre los datos con los que queremos trabajar.\n",
        "\n",
        "Para poder realizar esto hay que seguir dos pasos:\n",
        "\n",
        "1.  Realizar un fine-tune sobre un modelo de lenguaje que ya ha sido entrenado con wikipedia para que aprenda el corpus específico (spam). \n",
        "2.  Usar ese modeo de lenguaje para entrenar el clasificador de spam."
      ]
    },
    {
      "cell_type": "markdown",
      "metadata": {
        "id": "dFWmZrZQrcex"
      },
      "source": [
        "**1. Fine-tune del modelo de lenguaje**\n",
        "\n",
        "Utilizaré una arquitectura LSTM, que se encarga de tener la información necesaria para predecir el siguiente token (palabra) y además de recordar todo lo que ha pasado en la frase. \n",
        "\n",
        "Concretamente utilizaré una arquitectura AWD-LSTM, en la que además se aplican ciertas técnicas de regularización."
      ]
    },
    {
      "cell_type": "code",
      "metadata": {
        "id": "6BNcOBRulkh_"
      },
      "source": [
        "learn = language_model_learner(\n",
        "    dls_lm, AWD_LSTM, drop_mult=0.3, \n",
        "    metrics=[accuracy, Perplexity()]).to_fp16()"
      ],
      "execution_count": 110,
      "outputs": []
    },
    {
      "cell_type": "code",
      "metadata": {
        "colab": {
          "base_uri": "https://localhost:8080/",
          "height": 306
        },
        "id": "SVhMU6tVvggK",
        "outputId": "0be45dd5-0ca2-4827-89cf-f1e16e46021c"
      },
      "source": [
        "learn.lr_find()"
      ],
      "execution_count": 75,
      "outputs": [
        {
          "output_type": "display_data",
          "data": {
            "text/html": [
              ""
            ],
            "text/plain": [
              "<IPython.core.display.HTML object>"
            ]
          },
          "metadata": {
            "tags": []
          }
        },
        {
          "output_type": "execute_result",
          "data": {
            "text/plain": [
              "SuggestedLRs(lr_min=0.06309573650360108, lr_steep=0.12022644281387329)"
            ]
          },
          "metadata": {
            "tags": []
          },
          "execution_count": 75
        },
        {
          "output_type": "display_data",
          "data": {
            "image/png": "[encoded data removed]",
            "text/plain": [
              "<Figure size 432x288 with 1 Axes>"
            ]
          },
          "metadata": {
            "tags": [],
            "needs_background": "light"
          }
        }
      ]
    },
    {
      "cell_type": "code",
      "metadata": {
        "colab": {
          "base_uri": "https://localhost:8080/",
          "height": 80
        },
        "id": "X8UYBTj7okhi",
        "outputId": "2d90a84f-7f2f-4b5b-ef02-5a351eca1900"
      },
      "source": [
        "# Realizo el fine tune\n",
        "learn.fit_one_cycle(1, 0.1)"
      ],
      "execution_count": 111,
      "outputs": [
        {
          "output_type": "display_data",
          "data": {
            "text/html": [
              "<table border=\"1\" class=\"dataframe\">\n",
              "  <thead>\n",
              "    <tr style=\"text-align: left;\">\n",
              "      <th>epoch</th>\n",
              "      <th>train_loss</th>\n",
              "      <th>valid_loss</th>\n",
              "      <th>accuracy</th>\n",
              "      <th>perplexity</th>\n",
              "      <th>time</th>\n",
              "    </tr>\n",
              "  </thead>\n",
              "  <tbody>\n",
              "    <tr>\n",
              "      <td>0</td>\n",
              "      <td>4.736644</td>\n",
              "      <td>4.125875</td>\n",
              "      <td>0.260634</td>\n",
              "      <td>61.921936</td>\n",
              "      <td>00:06</td>\n",
              "    </tr>\n",
              "  </tbody>\n",
              "</table>"
            ],
            "text/plain": [
              "<IPython.core.display.HTML object>"
            ]
          },
          "metadata": {
            "tags": []
          }
        }
      ]
    },
    {
      "cell_type": "code",
      "metadata": {
        "id": "-KhtsKVFzVnf"
      },
      "source": [
        "learn.unfreeze()"
      ],
      "execution_count": 113,
      "outputs": []
    },
    {
      "cell_type": "code",
      "metadata": {
        "colab": {
          "base_uri": "https://localhost:8080/",
          "height": 306
        },
        "id": "HbXBGQDxwBAn",
        "outputId": "80aed703-8f9e-4cb6-947e-7c2fe24e0e49"
      },
      "source": [
        "learn.lr_find()"
      ],
      "execution_count": 114,
      "outputs": [
        {
          "output_type": "display_data",
          "data": {
            "text/html": [
              ""
            ],
            "text/plain": [
              "<IPython.core.display.HTML object>"
            ]
          },
          "metadata": {
            "tags": []
          }
        },
        {
          "output_type": "execute_result",
          "data": {
            "text/plain": [
              "SuggestedLRs(lr_min=0.0009120108559727668, lr_steep=0.00363078061491251)"
            ]
          },
          "metadata": {
            "tags": []
          },
          "execution_count": 114
        },
        {
          "output_type": "display_data",
          "data": {
            "image/png": "[encoded data removed]",
            "text/plain": [
              "<Figure size 432x288 with 1 Axes>"
            ]
          },
          "metadata": {
            "tags": [],
            "needs_background": "light"
          }
        }
      ]
    },
    {
      "cell_type": "code",
      "metadata": {
        "colab": {
          "base_uri": "https://localhost:8080/",
          "height": 359
        },
        "id": "cQ08RBfGq1jC",
        "outputId": "f2601f1b-7f03-488d-c4c9-d34b7e6aa1f2"
      },
      "source": [
        "learn.fit_one_cycle(10, lr_max=slice(1e-6, 5e-3))"
      ],
      "execution_count": 115,
      "outputs": [
        {
          "output_type": "display_data",
          "data": {
            "text/html": [
              "<table border=\"1\" class=\"dataframe\">\n",
              "  <thead>\n",
              "    <tr style=\"text-align: left;\">\n",
              "      <th>epoch</th>\n",
              "      <th>train_loss</th>\n",
              "      <th>valid_loss</th>\n",
              "      <th>accuracy</th>\n",
              "      <th>perplexity</th>\n",
              "      <th>time</th>\n",
              "    </tr>\n",
              "  </thead>\n",
              "  <tbody>\n",
              "    <tr>\n",
              "      <td>0</td>\n",
              "      <td>3.755064</td>\n",
              "      <td>4.076214</td>\n",
              "      <td>0.263913</td>\n",
              "      <td>58.921986</td>\n",
              "      <td>00:06</td>\n",
              "    </tr>\n",
              "    <tr>\n",
              "      <td>1</td>\n",
              "      <td>3.702020</td>\n",
              "      <td>3.967577</td>\n",
              "      <td>0.277754</td>\n",
              "      <td>52.856293</td>\n",
              "      <td>00:06</td>\n",
              "    </tr>\n",
              "    <tr>\n",
              "      <td>2</td>\n",
              "      <td>3.606522</td>\n",
              "      <td>3.873933</td>\n",
              "      <td>0.291426</td>\n",
              "      <td>48.131317</td>\n",
              "      <td>00:06</td>\n",
              "    </tr>\n",
              "    <tr>\n",
              "      <td>3</td>\n",
              "      <td>3.489074</td>\n",
              "      <td>3.811222</td>\n",
              "      <td>0.301915</td>\n",
              "      <td>45.205627</td>\n",
              "      <td>00:06</td>\n",
              "    </tr>\n",
              "    <tr>\n",
              "      <td>4</td>\n",
              "      <td>3.370208</td>\n",
              "      <td>3.771720</td>\n",
              "      <td>0.308738</td>\n",
              "      <td>43.454739</td>\n",
              "      <td>00:06</td>\n",
              "    </tr>\n",
              "    <tr>\n",
              "      <td>5</td>\n",
              "      <td>3.261364</td>\n",
              "      <td>3.750143</td>\n",
              "      <td>0.313971</td>\n",
              "      <td>42.527176</td>\n",
              "      <td>00:06</td>\n",
              "    </tr>\n",
              "    <tr>\n",
              "      <td>6</td>\n",
              "      <td>3.160899</td>\n",
              "      <td>3.738958</td>\n",
              "      <td>0.318046</td>\n",
              "      <td>42.054131</td>\n",
              "      <td>00:06</td>\n",
              "    </tr>\n",
              "    <tr>\n",
              "      <td>7</td>\n",
              "      <td>3.077623</td>\n",
              "      <td>3.733102</td>\n",
              "      <td>0.318528</td>\n",
              "      <td>41.808590</td>\n",
              "      <td>00:06</td>\n",
              "    </tr>\n",
              "    <tr>\n",
              "      <td>8</td>\n",
              "      <td>3.007001</td>\n",
              "      <td>3.730775</td>\n",
              "      <td>0.320433</td>\n",
              "      <td>41.711418</td>\n",
              "      <td>00:06</td>\n",
              "    </tr>\n",
              "    <tr>\n",
              "      <td>9</td>\n",
              "      <td>2.957003</td>\n",
              "      <td>3.730435</td>\n",
              "      <td>0.320361</td>\n",
              "      <td>41.697258</td>\n",
              "      <td>00:06</td>\n",
              "    </tr>\n",
              "  </tbody>\n",
              "</table>"
            ],
            "text/plain": [
              "<IPython.core.display.HTML object>"
            ]
          },
          "metadata": {
            "tags": []
          }
        }
      ]
    },
    {
      "cell_type": "code",
      "metadata": {
        "id": "qSD8dawLvXJF"
      },
      "source": [
        "# Guardo el modelo de lenguaje sin la última capa que se encarga de transformar activación en\n",
        "# probabilidades de coger cada token del vocabulario.\n",
        "\n",
        "learn.save_encoder('finetuned')"
      ],
      "execution_count": 116,
      "outputs": []
    },
    {
      "cell_type": "markdown",
      "metadata": {
        "id": "9CPoV_KSsCMi"
      },
      "source": [
        "**2. Entreno el clasificador**\n",
        "\n",
        "Creo el DataBlock para el clasificador haciendo uso del vocab del modelo de lenguaje anterior con el fin de asegurarme de que exista la misma correspondencia de token e index y así poder utilizar los embeddings aprendidos en el fine-tuning del modelo de lenguaje anterior."
      ]
    },
    {
      "cell_type": "code",
      "metadata": {
        "colab": {
          "base_uri": "https://localhost:8080/",
          "height": 71
        },
        "id": "r9jAX1D4sBiN",
        "outputId": "bff10ec8-a54b-40bc-ffb5-c7289567cbcf"
      },
      "source": [
        "dls_clas = DataBlock(\n",
        "    blocks=(TextBlock.from_df(\"text\", vocab=dls_lm.vocab),CategoryBlock),\n",
        "    get_y=ColReader('target'),\n",
        "    get_x=ColReader('text'), splitter=TrainTestSplitter(test_size=0.3, random_state=123, stratify=df[\"target\"])).dataloaders(df, bs=64)\n"
      ],
      "execution_count": 117,
      "outputs": [
        {
          "output_type": "display_data",
          "data": {
            "text/html": [
              ""
            ],
            "text/plain": [
              "<IPython.core.display.HTML object>"
            ]
          },
          "metadata": {
            "tags": []
          }
        },
        {
          "output_type": "stream",
          "text": [
            "/usr/local/lib/python3.7/dist-packages/numpy/core/_asarray.py:83: VisibleDeprecationWarning: Creating an ndarray from ragged nested sequences (which is a list-or-tuple of lists-or-tuples-or ndarrays with different lengths or shapes) is deprecated. If you meant to do this, you must specify 'dtype=object' when creating the ndarray\n",
            "  return array(a, dtype, copy=False, order=order)\n"
          ],
          "name": "stderr"
        }
      ]
    },
    {
      "cell_type": "markdown",
      "metadata": {
        "id": "QTh0bPII6jOY"
      },
      "source": [
        "Se aprecia como en este caso el resultado es bastante diferente. Como variable dependiente se encuentra cada uno de los sms tras haber sido preprocesados y como variable independiente su clase (spam o ham)."
      ]
    },
    {
      "cell_type": "code",
      "metadata": {
        "colab": {
          "base_uri": "https://localhost:8080/",
          "height": 357
        },
        "id": "r8v3qGyasBMf",
        "outputId": "c4e9d8f6-70ff-46a9-a66a-41458a729dee"
      },
      "source": [
        "dls_clas.show_batch(max_n=5)"
      ],
      "execution_count": 118,
      "outputs": [
        {
          "output_type": "display_data",
          "data": {
            "text/html": [
              "<table border=\"1\" class=\"dataframe\">\n",
              "  <thead>\n",
              "    <tr style=\"text-align: right;\">\n",
              "      <th></th>\n",
              "      <th>text</th>\n",
              "      <th>category</th>\n",
              "    </tr>\n",
              "  </thead>\n",
              "  <tbody>\n",
              "    <tr>\n",
              "      <th>0</th>\n",
              "      <td>xxbos xxmaj the last thing i ever wanted to do was hurt you . xxmaj and i did n't think it would have . xxmaj you 'd laugh , be embarassed , xxunk the xxunk and keep going . xxmaj but as far as i knew , it was n't even up . xxmaj the fact that you even felt like i would do it to hurt you shows you really do n't know me at all . xxmaj it was xxunk wednesday , but it was n't bad . xxmaj the problem i have with it is you xxup have the time to clean it , but you choose not to . xxmaj you skype , you take pictures , you sleep , you want to go out . i do n't mind a few things here and there , but when you do n't make the bed ,</td>\n",
              "      <td>ham</td>\n",
              "    </tr>\n",
              "    <tr>\n",
              "      <th>1</th>\n",
              "      <td>xxbos xxmaj sad story of a xxmaj man - xxmaj last week was my b'day . xxmaj my xxmaj wife did'nt wish me . xxmaj my xxmaj parents forgot n so did my xxmaj kids . i went to work . xxmaj even my xxmaj colleagues did not wish . xxmaj as i entered my cabin my xxup pa said , '' xxmaj happy xxmaj b'day xxmaj boss ! ! '' . i felt special . xxmaj she askd me 4 lunch . xxmaj after lunch she invited me to her apartment . xxmaj we went there . xxmaj she said , ' ' do u mind if i go into the bedroom for a minute ? '' ' ' ok ' ' , i sed in a sexy mood . xxmaj she came out 5 minuts latr wid a cake … n xxmaj my xxmaj wife , xxmaj my</td>\n",
              "      <td>ham</td>\n",
              "    </tr>\n",
              "    <tr>\n",
              "      <th>2</th>\n",
              "      <td>xxbos xxmaj sad story of a xxmaj man - xxmaj last week was my b'day . xxmaj my xxmaj wife did'nt wish me . xxmaj my xxmaj parents forgot n so did my xxmaj kids . i went to work . xxmaj even my xxmaj colleagues did not wish . xxmaj as i entered my cabin my xxup pa said , '' xxmaj happy xxmaj b'day xxmaj boss ! ! '' . i felt special . xxmaj she askd me 4 lunch . xxmaj after lunch she invited me to her apartment . xxmaj we went there . xxmaj she said , ' ' do u mind if i go into the bedroom for a minute ? '' ' ' ok ' ' , i sed in a sexy mood . xxmaj she came out 5 minuts latr wid a cake … n xxmaj my xxmaj wife , xxmaj my</td>\n",
              "      <td>ham</td>\n",
              "    </tr>\n",
              "    <tr>\n",
              "      <th>3</th>\n",
              "      <td>xxbos xxmaj for me the love should start with xxunk should feel that i need her every time around xxunk should be the first thing which comes in my xxunk would start the day and end it with xxunk should be there every time i xxunk will be then when my every xxunk has her xxunk life should happen around xxunk life will be xxunk to xxunk would cry for xxunk give all my happiness and take all her xxunk will be ready to fight with anyone for xxunk will be in love when i will be doing the xxunk things for xxunk will be when i do n't have to xxunk anyone that my girl is the most beautiful lady on the whole xxunk will always be xxunk xxunk for xxunk will be when i start up making chicken xxunk and end up xxunk xxunk will be the most</td>\n",
              "      <td>ham</td>\n",
              "    </tr>\n",
              "    <tr>\n",
              "      <th>4</th>\n",
              "      <td>xxbos a xxmaj boy loved a gal . xxmaj he xxunk bt she did nt mind . xxmaj he xxunk xxunk xxunk , xxmaj bt her frnds xxunk thm . xxmaj again d boy decided 2 xxunk d gal , xxunk time a xxunk was xxunk towards d gal . xxmaj wn it was about 2 hit d girl , d boy ran like hell n saved her . xxmaj she asked ' hw cn u run so fast ? ' d boy replied \\ xxmaj boost is d secret of my energy \" n instantly d girl shouted \" our energy \" n xxmaj xxunk xxunk xxunk xxunk drinking boost xxunk xxmaj moral of d xxunk i hv free msgs : d ; ) : gud ni8 \"</td>\n",
              "      <td>ham</td>\n",
              "    </tr>\n",
              "  </tbody>\n",
              "</table>"
            ],
            "text/plain": [
              "<IPython.core.display.HTML object>"
            ]
          },
          "metadata": {
            "tags": []
          }
        }
      ]
    },
    {
      "cell_type": "code",
      "metadata": {
        "id": "YJOPRdkxzx5A"
      },
      "source": [
        "# Creo el modelo de clasificación\n",
        "learn = text_classifier_learner(dls_clas, AWD_LSTM, drop_mult=0.5, \n",
        "                                metrics=accuracy).to_fp16()"
      ],
      "execution_count": 196,
      "outputs": []
    },
    {
      "cell_type": "code",
      "metadata": {
        "id": "Hhr-3WkRzyKl"
      },
      "source": [
        "# Cargo el modelo de lenguaje ya \"entrenado\" (fine-tuning)\n",
        "learn = learn.load_encoder('finetuned')"
      ],
      "execution_count": 197,
      "outputs": []
    },
    {
      "cell_type": "code",
      "metadata": {
        "colab": {
          "base_uri": "https://localhost:8080/",
          "height": 306
        },
        "id": "dRCxIPIE7Lec",
        "outputId": "c7e9d5ac-7ff4-4fc0-e920-7e3a21410e71"
      },
      "source": [
        "learn.lr_find()"
      ],
      "execution_count": 198,
      "outputs": [
        {
          "output_type": "display_data",
          "data": {
            "text/html": [
              ""
            ],
            "text/plain": [
              "<IPython.core.display.HTML object>"
            ]
          },
          "metadata": {
            "tags": []
          }
        },
        {
          "output_type": "execute_result",
          "data": {
            "text/plain": [
              "SuggestedLRs(lr_min=0.017378008365631102, lr_steep=0.43651583790779114)"
            ]
          },
          "metadata": {
            "tags": []
          },
          "execution_count": 198
        },
        {
          "output_type": "display_data",
          "data": {
            "image/png": "[encoded data removed]",
            "text/plain": [
              "<Figure size 432x288 with 1 Axes>"
            ]
          },
          "metadata": {
            "tags": [],
            "needs_background": "light"
          }
        }
      ]
    },
    {
      "cell_type": "code",
      "metadata": {
        "colab": {
          "base_uri": "https://localhost:8080/",
          "height": 80
        },
        "id": "PxnTl0HdzyVe",
        "outputId": "f73d3f82-0ef6-4066-ce0b-99eaaea6c25f"
      },
      "source": [
        "#Comienzo el entrenamiento del clasificador\n",
        "learn.fit_one_cycle(1, 1e-2)"
      ],
      "execution_count": 199,
      "outputs": [
        {
          "output_type": "display_data",
          "data": {
            "text/html": [
              "<table border=\"1\" class=\"dataframe\">\n",
              "  <thead>\n",
              "    <tr style=\"text-align: left;\">\n",
              "      <th>epoch</th>\n",
              "      <th>train_loss</th>\n",
              "      <th>valid_loss</th>\n",
              "      <th>accuracy</th>\n",
              "      <th>time</th>\n",
              "    </tr>\n",
              "  </thead>\n",
              "  <tbody>\n",
              "    <tr>\n",
              "      <td>0</td>\n",
              "      <td>0.419330</td>\n",
              "      <td>0.114824</td>\n",
              "      <td>0.969825</td>\n",
              "      <td>00:06</td>\n",
              "    </tr>\n",
              "  </tbody>\n",
              "</table>"
            ],
            "text/plain": [
              "<IPython.core.display.HTML object>"
            ]
          },
          "metadata": {
            "tags": []
          }
        }
      ]
    },
    {
      "cell_type": "code",
      "metadata": {
        "id": "sOSzmOYA2UUE"
      },
      "source": [
        "# Para ello iré \"descogelando\" (unfreezing) las capas poco a poco,\n",
        "# puesto que esto para NLP ha demostrado dar buenos resultados.\n",
        "learn.freeze_to(-2)"
      ],
      "execution_count": 200,
      "outputs": []
    },
    {
      "cell_type": "code",
      "metadata": {
        "colab": {
          "base_uri": "https://localhost:8080/",
          "height": 306
        },
        "id": "FVAgvqZk9jrE",
        "outputId": "c5eb5c50-c59c-4f89-c5ae-2765ea581460"
      },
      "source": [
        "learn.lr_find()"
      ],
      "execution_count": 201,
      "outputs": [
        {
          "output_type": "display_data",
          "data": {
            "text/html": [
              ""
            ],
            "text/plain": [
              "<IPython.core.display.HTML object>"
            ]
          },
          "metadata": {
            "tags": []
          }
        },
        {
          "output_type": "execute_result",
          "data": {
            "text/plain": [
              "SuggestedLRs(lr_min=0.0009120108559727668, lr_steep=2.75422871709452e-06)"
            ]
          },
          "metadata": {
            "tags": []
          },
          "execution_count": 201
        },
        {
          "output_type": "display_data",
          "data": {
            "image/png": "[encoded data removed]",
            "text/plain": [
              "<Figure size 432x288 with 1 Axes>"
            ]
          },
          "metadata": {
            "tags": [],
            "needs_background": "light"
          }
        }
      ]
    },
    {
      "cell_type": "code",
      "metadata": {
        "colab": {
          "base_uri": "https://localhost:8080/",
          "height": 80
        },
        "id": "UODqdRrM9g8h",
        "outputId": "761bf554-2d94-4672-c1ac-34a25dcefc1a"
      },
      "source": [
        "learn.fit_one_cycle(1, slice(1e-4,1e-3))"
      ],
      "execution_count": 202,
      "outputs": [
        {
          "output_type": "display_data",
          "data": {
            "text/html": [
              "<table border=\"1\" class=\"dataframe\">\n",
              "  <thead>\n",
              "    <tr style=\"text-align: left;\">\n",
              "      <th>epoch</th>\n",
              "      <th>train_loss</th>\n",
              "      <th>valid_loss</th>\n",
              "      <th>accuracy</th>\n",
              "      <th>time</th>\n",
              "    </tr>\n",
              "  </thead>\n",
              "  <tbody>\n",
              "    <tr>\n",
              "      <td>0</td>\n",
              "      <td>0.238382</td>\n",
              "      <td>0.072888</td>\n",
              "      <td>0.989740</td>\n",
              "      <td>00:06</td>\n",
              "    </tr>\n",
              "  </tbody>\n",
              "</table>"
            ],
            "text/plain": [
              "<IPython.core.display.HTML object>"
            ]
          },
          "metadata": {
            "tags": []
          }
        }
      ]
    },
    {
      "cell_type": "code",
      "metadata": {
        "id": "gBCrRhu42VS8"
      },
      "source": [
        "learn.freeze_to(-3)"
      ],
      "execution_count": 203,
      "outputs": []
    },
    {
      "cell_type": "code",
      "metadata": {
        "colab": {
          "base_uri": "https://localhost:8080/",
          "height": 306
        },
        "id": "Sy9OLKGG-K5x",
        "outputId": "de63c065-4a6b-44f6-904b-8ebf35d2c34c"
      },
      "source": [
        "learn.lr_find()"
      ],
      "execution_count": 204,
      "outputs": [
        {
          "output_type": "display_data",
          "data": {
            "text/html": [
              ""
            ],
            "text/plain": [
              "<IPython.core.display.HTML object>"
            ]
          },
          "metadata": {
            "tags": []
          }
        },
        {
          "output_type": "execute_result",
          "data": {
            "text/plain": [
              "SuggestedLRs(lr_min=0.0005248074419796466, lr_steep=2.75422871709452e-06)"
            ]
          },
          "metadata": {
            "tags": []
          },
          "execution_count": 204
        },
        {
          "output_type": "display_data",
          "data": {
            "image/png": "[encoded data removed]",
            "text/plain": [
              "<Figure size 432x288 with 1 Axes>"
            ]
          },
          "metadata": {
            "tags": [],
            "needs_background": "light"
          }
        }
      ]
    },
    {
      "cell_type": "code",
      "metadata": {
        "colab": {
          "base_uri": "https://localhost:8080/",
          "height": 80
        },
        "id": "mcqqobiN-KmF",
        "outputId": "c11247d7-6e8f-4e40-bc1d-9d275d82ce8b"
      },
      "source": [
        "learn.fit_one_cycle(1, slice(1e-5, 2e-3))"
      ],
      "execution_count": 205,
      "outputs": [
        {
          "output_type": "display_data",
          "data": {
            "text/html": [
              "<table border=\"1\" class=\"dataframe\">\n",
              "  <thead>\n",
              "    <tr style=\"text-align: left;\">\n",
              "      <th>epoch</th>\n",
              "      <th>train_loss</th>\n",
              "      <th>valid_loss</th>\n",
              "      <th>accuracy</th>\n",
              "      <th>time</th>\n",
              "    </tr>\n",
              "  </thead>\n",
              "  <tbody>\n",
              "    <tr>\n",
              "      <td>0</td>\n",
              "      <td>0.173166</td>\n",
              "      <td>0.062180</td>\n",
              "      <td>0.992154</td>\n",
              "      <td>00:06</td>\n",
              "    </tr>\n",
              "  </tbody>\n",
              "</table>"
            ],
            "text/plain": [
              "<IPython.core.display.HTML object>"
            ]
          },
          "metadata": {
            "tags": []
          }
        }
      ]
    },
    {
      "cell_type": "code",
      "metadata": {
        "id": "sgbkZQbt2VXe"
      },
      "source": [
        "learn.unfreeze()"
      ],
      "execution_count": 206,
      "outputs": []
    },
    {
      "cell_type": "code",
      "metadata": {
        "colab": {
          "base_uri": "https://localhost:8080/",
          "height": 306
        },
        "id": "oDqAEOwk-dRu",
        "outputId": "0c3c4807-b03f-4479-ccb2-13776fd1fd65"
      },
      "source": [
        "learn.lr_find()"
      ],
      "execution_count": 207,
      "outputs": [
        {
          "output_type": "display_data",
          "data": {
            "text/html": [
              ""
            ],
            "text/plain": [
              "<IPython.core.display.HTML object>"
            ]
          },
          "metadata": {
            "tags": []
          }
        },
        {
          "output_type": "execute_result",
          "data": {
            "text/plain": [
              "SuggestedLRs(lr_min=0.00043651582673192023, lr_steep=0.17378008365631104)"
            ]
          },
          "metadata": {
            "tags": []
          },
          "execution_count": 207
        },
        {
          "output_type": "display_data",
          "data": {
            "image/png": "[encoded data removed]",
            "text/plain": [
              "<Figure size 432x288 with 1 Axes>"
            ]
          },
          "metadata": {
            "tags": [],
            "needs_background": "light"
          }
        }
      ]
    },
    {
      "cell_type": "code",
      "metadata": {
        "colab": {
          "base_uri": "https://localhost:8080/",
          "height": 142
        },
        "id": "siWQNl2k-cN4",
        "outputId": "cd7b360b-e8f1-41df-c76a-8f66138a2955"
      },
      "source": [
        "learn.fit_one_cycle(3, slice(1e-4, 2e-3))"
      ],
      "execution_count": 208,
      "outputs": [
        {
          "output_type": "display_data",
          "data": {
            "text/html": [
              "<table border=\"1\" class=\"dataframe\">\n",
              "  <thead>\n",
              "    <tr style=\"text-align: left;\">\n",
              "      <th>epoch</th>\n",
              "      <th>train_loss</th>\n",
              "      <th>valid_loss</th>\n",
              "      <th>accuracy</th>\n",
              "      <th>time</th>\n",
              "    </tr>\n",
              "  </thead>\n",
              "  <tbody>\n",
              "    <tr>\n",
              "      <td>0</td>\n",
              "      <td>0.126517</td>\n",
              "      <td>0.035224</td>\n",
              "      <td>0.990947</td>\n",
              "      <td>00:07</td>\n",
              "    </tr>\n",
              "    <tr>\n",
              "      <td>1</td>\n",
              "      <td>0.088867</td>\n",
              "      <td>0.027659</td>\n",
              "      <td>0.990344</td>\n",
              "      <td>00:07</td>\n",
              "    </tr>\n",
              "    <tr>\n",
              "      <td>2</td>\n",
              "      <td>0.051315</td>\n",
              "      <td>0.026458</td>\n",
              "      <td>0.993361</td>\n",
              "      <td>00:07</td>\n",
              "    </tr>\n",
              "  </tbody>\n",
              "</table>"
            ],
            "text/plain": [
              "<IPython.core.display.HTML object>"
            ]
          },
          "metadata": {
            "tags": []
          }
        }
      ]
    },
    {
      "cell_type": "markdown",
      "metadata": {
        "id": "O6BJt2AZ3bW0"
      },
      "source": [
        "Para calcular los scores la función ya creada no me vale, así que primero creo el vector de predicciones sobre X_test y posteriormente calculo las medidas."
      ]
    },
    {
      "cell_type": "code",
      "metadata": {
        "id": "KBiqKwdL4952"
      },
      "source": [
        "#Creo un vector con todas las predicciones para el test set\n",
        "y_hat = [1 if learn.predict(text)[0] == \"spam\" else 0 for text in X_test]"
      ],
      "execution_count": null,
      "outputs": []
    },
    {
      "cell_type": "code",
      "metadata": {
        "id": "-hPn5dPT5gwv"
      },
      "source": [
        "def scores_2(name,y_hat, y_true):\n",
        "  \n",
        "    from sklearn.metrics import accuracy_score, precision_score, recall_score\n",
        "    precision = accuracy_score(y_true, y_hat)\n",
        "    exactitud = precision_score(y_true, y_hat)\n",
        "    exhaustividad = recall_score(y_true, y_hat)\n",
        "    print(\"\"\" Scores {name}\n",
        "        Accuracy: {precision}\n",
        "        Precision: {exactitud}\n",
        "        Recall: {exhaustividad}\"\"\".format(name = name,\n",
        "                                                 precision = precision,\n",
        "                                                 exactitud = exactitud,\n",
        "                                                 exhaustividad = exhaustividad))"
      ],
      "execution_count": 236,
      "outputs": []
    },
    {
      "cell_type": "code",
      "metadata": {
        "colab": {
          "base_uri": "https://localhost:8080/"
        },
        "id": "8R6PxijM5vGD",
        "outputId": "1fc000f6-e585-4b1e-b0e0-e724a587698a"
      },
      "source": [
        "scores_2(\"Redes Profundas Recurrentes (RNN)\", y_hat, y_test)"
      ],
      "execution_count": 237,
      "outputs": [
        {
          "output_type": "stream",
          "text": [
            " Scores Redes Profundas Recurrentes (RNN)\n",
            "        Accuracy: 0.9933614966807484\n",
            "        Precision: 0.9953271028037384\n",
            "        Recall: 0.9551569506726457\n"
          ],
          "name": "stdout"
        }
      ]
    },
    {
      "cell_type": "code",
      "metadata": {
        "colab": {
          "base_uri": "https://localhost:8080/"
        },
        "id": "vNJWCQERLyRH",
        "outputId": "e3c1af10-c257-4b3d-8fd9-5115603fff52"
      },
      "source": [
        "confusion_matrix(y_test, y_hat)"
      ],
      "execution_count": 238,
      "outputs": [
        {
          "output_type": "execute_result",
          "data": {
            "text/plain": [
              "array([[1433,    1],\n",
              "       [  10,  213]])"
            ]
          },
          "metadata": {
            "tags": []
          },
          "execution_count": 238
        }
      ]
    },
    {
      "cell_type": "markdown",
      "metadata": {
        "id": "jm6hlhqDG5iZ"
      },
      "source": [
        "La red profunda recurrente (RNN) obtiene el accuracy más alto, pero clasifica un ham como spam."
      ]
    },
    {
      "cell_type": "markdown",
      "metadata": {
        "id": "yEiqYr1aIWIL"
      },
      "source": [
        "### **Ensemble final**\n",
        "\n",
        "Voy a realizar un modelo juntando el MultinomialNB-tfidf, el SVC-tfidf y la RNN de tal manera que dos de los modelos han de predecir spam para que un sms sea considerado como tal."
      ]
    },
    {
      "cell_type": "code",
      "metadata": {
        "id": "QfpisjBoHJrz"
      },
      "source": [
        "# Creo un vector con las predicciones de X_test para cada modelo\n",
        "e = Ensemble([gs_svc_tfidf, gs_mnb_tfidf])\n",
        "svc_preds, mnb_preds = e.predict(X_test_tfidf)\n",
        "rnn_preds = np.array(y_hat)"
      ],
      "execution_count": 261,
      "outputs": []
    },
    {
      "cell_type": "code",
      "metadata": {
        "id": "qml2msFLJW1Q"
      },
      "source": [
        "final_model_preds = (mnb_preds + rnn_preds + svc_preds > 1).astype(\"int\")"
      ],
      "execution_count": 271,
      "outputs": []
    },
    {
      "cell_type": "code",
      "metadata": {
        "colab": {
          "base_uri": "https://localhost:8080/"
        },
        "id": "lMq6TJ2iKcn3",
        "outputId": "2151399d-052f-4e5e-c71b-7c02c8809b71"
      },
      "source": [
        "scores_2(\"RNN + SVC-tfidf, MNB-tfidf\",final_model_preds, y_test)"
      ],
      "execution_count": 272,
      "outputs": [
        {
          "output_type": "stream",
          "text": [
            " Scores RNN + SVC-tfidf, MNB-tfidf\n",
            "        Accuracy: 0.9909474954737477\n",
            "        Precision: 1.0\n",
            "        Recall: 0.9327354260089686\n"
          ],
          "name": "stdout"
        }
      ]
    },
    {
      "cell_type": "code",
      "metadata": {
        "colab": {
          "base_uri": "https://localhost:8080/"
        },
        "id": "F9CicQUIKoxz",
        "outputId": "a28291dc-2195-4d1d-9707-605b29a1ab8b"
      },
      "source": [
        "confusion_matrix(y_test, final_model_preds)"
      ],
      "execution_count": 273,
      "outputs": [
        {
          "output_type": "execute_result",
          "data": {
            "text/plain": [
              "array([[1434,    0],\n",
              "       [  15,  208]])"
            ]
          },
          "metadata": {
            "tags": []
          },
          "execution_count": 273
        }
      ]
    },
    {
      "cell_type": "markdown",
      "metadata": {
        "id": "7TqCqyvi74_o"
      },
      "source": [
        "### **Conclusiones finales**\n",
        "\n",
        "**La mejor versión de cada uno de los modelos** obtiene **98.5%+ de precisión**, siendo **la RNN** el que consigue el mayor valor en esta medida **(99.34%)**.\n",
        "\n",
        "Debido al caso particular en el que me encuentro (detección de spam), a pesar de que la RNN obtenga la mejor precisión, esta clasifica un ham como spam, lo cual en la práctica puede tener serias consecuencias. \n",
        "\n",
        "Debido a esto, consideré útil realizar una **combinación (Ensemble) de los tres modelos** en la que para que un sms sea clasificado como spam es necesario que dos de los modelos lo consideren así. El resultado de esta práctica fue una precisión un poco más baja que la RNN **(99.1%)**, pero coseguí que ningún sms fuera clasificado erroneamente como spam.\n",
        "\n",
        "De los 1657 sms que forman el test set, solo 15 spams no fueron detectados, por lo que considero que en la práctica estos resultados podrían ser válidos."
      ]
    }
  ]
}
